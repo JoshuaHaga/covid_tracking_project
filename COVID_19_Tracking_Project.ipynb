{
  "nbformat": 4,
  "nbformat_minor": 0,
  "metadata": {
    "colab": {
      "name": "COVID-19_Tracking_Project.ipynb",
      "provenance": [],
      "authorship_tag": "ABX9TyN63W+vnMpvRFOeuX58PJxD",
      "include_colab_link": true
    },
    "kernelspec": {
      "name": "python3",
      "display_name": "Python 3"
    }
  },
  "cells": [
    {
      "cell_type": "markdown",
      "metadata": {
        "id": "view-in-github",
        "colab_type": "text"
      },
      "source": [
        "<a href=\"https://colab.research.google.com/github/JoshuaHaga/covid_tracking_project/blob/master/COVID_19_Tracking_Project.ipynb\" target=\"_parent\"><img src=\"https://colab.research.google.com/assets/colab-badge.svg\" alt=\"Open In Colab\"/></a>"
      ]
    },
    {
      "cell_type": "code",
      "metadata": {
        "id": "Fut36P01xx8S",
        "colab_type": "code",
        "colab": {}
      },
      "source": [
        "import pandas as pd\n",
        "import numpy as np\n",
        "import plotly.express as px"
      ],
      "execution_count": 1,
      "outputs": []
    },
    {
      "cell_type": "code",
      "metadata": {
        "id": "Y82wqnQ08jkb",
        "colab_type": "code",
        "colab": {
          "base_uri": "https://localhost:8080/",
          "height": 273
        },
        "outputId": "e5dff96b-a516-47c4-ded5-77c1e8a26563"
      },
      "source": [
        "###Must run for visualizations\n",
        "!pip install plotly==4.9.0"
      ],
      "execution_count": 2,
      "outputs": [
        {
          "output_type": "stream",
          "text": [
            "Collecting plotly==4.9.0\n",
            "\u001b[?25l  Downloading https://files.pythonhosted.org/packages/bf/5f/47ab0d9d843c5be0f5c5bd891736a4c84fa45c3b0a0ddb6b6df7c098c66f/plotly-4.9.0-py2.py3-none-any.whl (12.9MB)\n",
            "\u001b[K     |████████████████████████████████| 12.9MB 252kB/s \n",
            "\u001b[?25hRequirement already satisfied: six in /usr/local/lib/python3.6/dist-packages (from plotly==4.9.0) (1.15.0)\n",
            "Requirement already satisfied: retrying>=1.3.3 in /usr/local/lib/python3.6/dist-packages (from plotly==4.9.0) (1.3.3)\n",
            "Installing collected packages: plotly\n",
            "  Found existing installation: plotly 4.4.1\n",
            "    Uninstalling plotly-4.4.1:\n",
            "      Successfully uninstalled plotly-4.4.1\n",
            "Successfully installed plotly-4.9.0\n"
          ],
          "name": "stdout"
        },
        {
          "output_type": "display_data",
          "data": {
            "application/vnd.colab-display-data+json": {
              "pip_warning": {
                "packages": [
                  "_plotly_utils",
                  "plotly"
                ]
              }
            }
          },
          "metadata": {
            "tags": []
          }
        }
      ]
    },
    {
      "cell_type": "code",
      "metadata": {
        "id": "hxFR0K257PT0",
        "colab_type": "code",
        "colab": {}
      },
      "source": [
        "#Dependencies for chloropleth\n",
        "from urllib.request import urlopen\n",
        "import json\n",
        "with urlopen('https://raw.githubusercontent.com/plotly/datasets/master/geojson-counties-fips.json') as response:\n",
        "    counties = json.load(response)"
      ],
      "execution_count": 3,
      "outputs": []
    },
    {
      "cell_type": "code",
      "metadata": {
        "id": "-zXX9nCfLRZl",
        "colab_type": "code",
        "colab": {
          "base_uri": "https://localhost:8080/",
          "height": 238
        },
        "outputId": "616856c1-8ea7-43a1-d663-68741dde8bc1"
      },
      "source": [
        "!pip install chart_studio"
      ],
      "execution_count": 4,
      "outputs": [
        {
          "output_type": "stream",
          "text": [
            "Collecting chart_studio\n",
            "\u001b[?25l  Downloading https://files.pythonhosted.org/packages/ca/ce/330794a6b6ca4b9182c38fc69dd2a9cbff60fd49421cb8648ee5fee352dc/chart_studio-1.1.0-py3-none-any.whl (64kB)\n",
            "\u001b[K     |████████████████████████████████| 71kB 667kB/s \n",
            "\u001b[?25hRequirement already satisfied: plotly in /usr/local/lib/python3.6/dist-packages (from chart_studio) (4.9.0)\n",
            "Requirement already satisfied: requests in /usr/local/lib/python3.6/dist-packages (from chart_studio) (2.23.0)\n",
            "Requirement already satisfied: six in /usr/local/lib/python3.6/dist-packages (from chart_studio) (1.15.0)\n",
            "Requirement already satisfied: retrying>=1.3.3 in /usr/local/lib/python3.6/dist-packages (from chart_studio) (1.3.3)\n",
            "Requirement already satisfied: chardet<4,>=3.0.2 in /usr/local/lib/python3.6/dist-packages (from requests->chart_studio) (3.0.4)\n",
            "Requirement already satisfied: certifi>=2017.4.17 in /usr/local/lib/python3.6/dist-packages (from requests->chart_studio) (2020.6.20)\n",
            "Requirement already satisfied: urllib3!=1.25.0,!=1.25.1,<1.26,>=1.21.1 in /usr/local/lib/python3.6/dist-packages (from requests->chart_studio) (1.24.3)\n",
            "Requirement already satisfied: idna<3,>=2.5 in /usr/local/lib/python3.6/dist-packages (from requests->chart_studio) (2.10)\n",
            "Installing collected packages: chart-studio\n",
            "Successfully installed chart-studio-1.1.0\n"
          ],
          "name": "stdout"
        }
      ]
    },
    {
      "cell_type": "code",
      "metadata": {
        "id": "0qGTQwygLLxj",
        "colab_type": "code",
        "colab": {}
      },
      "source": [
        "import plotly\n",
        "import chart_studio\n",
        "import chart_studio.plotly as py\n",
        "username = 'josh.haga' # your username\n",
        "api_key = '6bgoxTaL6JLm9a9DquYX' # your api key - go to profile > settings > regenerate key\n",
        "chart_studio.tools.set_credentials_file(username=username, api_key=api_key)"
      ],
      "execution_count": 5,
      "outputs": []
    },
    {
      "cell_type": "code",
      "metadata": {
        "id": "ufjCRMk8x6Ja",
        "colab_type": "code",
        "colab": {}
      },
      "source": [
        "###Datasets\n",
        "va_locality_cases = pd.read_csv('https://raw.githubusercontent.com/JoshuaHaga/covid_tracking_project/master/VDH-COVID-19-PublicUseDataset-Cases.csv')\n",
        "va_cases_zip      = pd.read_csv('https://raw.githubusercontent.com/JoshuaHaga/covid_tracking_project/master/VDH-COVID-19-PublicUseDataset-ZIPCode.csv')"
      ],
      "execution_count": 6,
      "outputs": []
    },
    {
      "cell_type": "code",
      "metadata": {
        "id": "sY0L1CKuyJIE",
        "colab_type": "code",
        "colab": {
          "base_uri": "https://localhost:8080/",
          "height": 204
        },
        "outputId": "0c4be9a9-d2d4-43f6-b1f9-64d9247990aa"
      },
      "source": [
        "va_cases_zip.head()"
      ],
      "execution_count": 7,
      "outputs": [
        {
          "output_type": "execute_result",
          "data": {
            "text/html": [
              "<div>\n",
              "<style scoped>\n",
              "    .dataframe tbody tr th:only-of-type {\n",
              "        vertical-align: middle;\n",
              "    }\n",
              "\n",
              "    .dataframe tbody tr th {\n",
              "        vertical-align: top;\n",
              "    }\n",
              "\n",
              "    .dataframe thead th {\n",
              "        text-align: right;\n",
              "    }\n",
              "</style>\n",
              "<table border=\"1\" class=\"dataframe\">\n",
              "  <thead>\n",
              "    <tr style=\"text-align: right;\">\n",
              "      <th></th>\n",
              "      <th>Report Date</th>\n",
              "      <th>ZIP Code</th>\n",
              "      <th>Number of Cases</th>\n",
              "      <th>Number of Testing Encounters</th>\n",
              "      <th>Number of PCR Testing Encounters</th>\n",
              "    </tr>\n",
              "  </thead>\n",
              "  <tbody>\n",
              "    <tr>\n",
              "      <th>0</th>\n",
              "      <td>05/15/2020</td>\n",
              "      <td>20105</td>\n",
              "      <td>61</td>\n",
              "      <td>507.0</td>\n",
              "      <td>NaN</td>\n",
              "    </tr>\n",
              "    <tr>\n",
              "      <th>1</th>\n",
              "      <td>05/15/2020</td>\n",
              "      <td>20106</td>\n",
              "      <td>25</td>\n",
              "      <td>92.0</td>\n",
              "      <td>NaN</td>\n",
              "    </tr>\n",
              "    <tr>\n",
              "      <th>2</th>\n",
              "      <td>05/15/2020</td>\n",
              "      <td>20109</td>\n",
              "      <td>542</td>\n",
              "      <td>1411.0</td>\n",
              "      <td>NaN</td>\n",
              "    </tr>\n",
              "    <tr>\n",
              "      <th>3</th>\n",
              "      <td>05/15/2020</td>\n",
              "      <td>20110</td>\n",
              "      <td>609</td>\n",
              "      <td>1588.0</td>\n",
              "      <td>NaN</td>\n",
              "    </tr>\n",
              "    <tr>\n",
              "      <th>4</th>\n",
              "      <td>05/15/2020</td>\n",
              "      <td>20111</td>\n",
              "      <td>426</td>\n",
              "      <td>1160.0</td>\n",
              "      <td>NaN</td>\n",
              "    </tr>\n",
              "  </tbody>\n",
              "</table>\n",
              "</div>"
            ],
            "text/plain": [
              "  Report Date  ... Number of PCR Testing Encounters\n",
              "0  05/15/2020  ...                              NaN\n",
              "1  05/15/2020  ...                              NaN\n",
              "2  05/15/2020  ...                              NaN\n",
              "3  05/15/2020  ...                              NaN\n",
              "4  05/15/2020  ...                              NaN\n",
              "\n",
              "[5 rows x 5 columns]"
            ]
          },
          "metadata": {
            "tags": []
          },
          "execution_count": 7
        }
      ]
    },
    {
      "cell_type": "code",
      "metadata": {
        "id": "fz1Qiud_7SP1",
        "colab_type": "code",
        "colab": {}
      },
      "source": [
        ""
      ],
      "execution_count": 7,
      "outputs": []
    },
    {
      "cell_type": "code",
      "metadata": {
        "id": "rQGmK_ly1SHV",
        "colab_type": "code",
        "colab": {
          "base_uri": "https://localhost:8080/",
          "height": 419
        },
        "outputId": "d73b8d48-75cd-4050-ce6d-e92ca9a4f2bc"
      },
      "source": [
        "###Filter for just harrisonburg\n",
        "harrison_zip = [22801,22802,22803,22807]\n",
        "harrison_cases = va_cases_zip[va_cases_zip['ZIP Code'].isin(['22801','22802','22803','22807'])]\n",
        "harrison_cases"
      ],
      "execution_count": 8,
      "outputs": [
        {
          "output_type": "execute_result",
          "data": {
            "text/html": [
              "<div>\n",
              "<style scoped>\n",
              "    .dataframe tbody tr th:only-of-type {\n",
              "        vertical-align: middle;\n",
              "    }\n",
              "\n",
              "    .dataframe tbody tr th {\n",
              "        vertical-align: top;\n",
              "    }\n",
              "\n",
              "    .dataframe thead th {\n",
              "        text-align: right;\n",
              "    }\n",
              "</style>\n",
              "<table border=\"1\" class=\"dataframe\">\n",
              "  <thead>\n",
              "    <tr style=\"text-align: right;\">\n",
              "      <th></th>\n",
              "      <th>Report Date</th>\n",
              "      <th>ZIP Code</th>\n",
              "      <th>Number of Cases</th>\n",
              "      <th>Number of Testing Encounters</th>\n",
              "      <th>Number of PCR Testing Encounters</th>\n",
              "    </tr>\n",
              "  </thead>\n",
              "  <tbody>\n",
              "    <tr>\n",
              "      <th>217</th>\n",
              "      <td>05/15/2020</td>\n",
              "      <td>22801</td>\n",
              "      <td>438</td>\n",
              "      <td>945.0</td>\n",
              "      <td>NaN</td>\n",
              "    </tr>\n",
              "    <tr>\n",
              "      <th>218</th>\n",
              "      <td>05/15/2020</td>\n",
              "      <td>22802</td>\n",
              "      <td>363</td>\n",
              "      <td>877.0</td>\n",
              "      <td>NaN</td>\n",
              "    </tr>\n",
              "    <tr>\n",
              "      <th>219</th>\n",
              "      <td>05/15/2020</td>\n",
              "      <td>22807</td>\n",
              "      <td>Suppressed*</td>\n",
              "      <td>2.0</td>\n",
              "      <td>NaN</td>\n",
              "    </tr>\n",
              "    <tr>\n",
              "      <th>1097</th>\n",
              "      <td>05/16/2020</td>\n",
              "      <td>22801</td>\n",
              "      <td>443</td>\n",
              "      <td>981.0</td>\n",
              "      <td>NaN</td>\n",
              "    </tr>\n",
              "    <tr>\n",
              "      <th>1098</th>\n",
              "      <td>05/16/2020</td>\n",
              "      <td>22802</td>\n",
              "      <td>369</td>\n",
              "      <td>900.0</td>\n",
              "      <td>NaN</td>\n",
              "    </tr>\n",
              "    <tr>\n",
              "      <th>...</th>\n",
              "      <td>...</td>\n",
              "      <td>...</td>\n",
              "      <td>...</td>\n",
              "      <td>...</td>\n",
              "      <td>...</td>\n",
              "    </tr>\n",
              "    <tr>\n",
              "      <th>95721</th>\n",
              "      <td>09/02/2020</td>\n",
              "      <td>22802</td>\n",
              "      <td>656</td>\n",
              "      <td>NaN</td>\n",
              "      <td>4780</td>\n",
              "    </tr>\n",
              "    <tr>\n",
              "      <th>95722</th>\n",
              "      <td>09/02/2020</td>\n",
              "      <td>22807</td>\n",
              "      <td>20</td>\n",
              "      <td>NaN</td>\n",
              "      <td>68</td>\n",
              "    </tr>\n",
              "    <tr>\n",
              "      <th>96618</th>\n",
              "      <td>09/03/2020</td>\n",
              "      <td>22801</td>\n",
              "      <td>1218</td>\n",
              "      <td>NaN</td>\n",
              "      <td>6954</td>\n",
              "    </tr>\n",
              "    <tr>\n",
              "      <th>96619</th>\n",
              "      <td>09/03/2020</td>\n",
              "      <td>22802</td>\n",
              "      <td>660</td>\n",
              "      <td>NaN</td>\n",
              "      <td>4806</td>\n",
              "    </tr>\n",
              "    <tr>\n",
              "      <th>96620</th>\n",
              "      <td>09/03/2020</td>\n",
              "      <td>22807</td>\n",
              "      <td>24</td>\n",
              "      <td>NaN</td>\n",
              "      <td>70</td>\n",
              "    </tr>\n",
              "  </tbody>\n",
              "</table>\n",
              "<p>327 rows × 5 columns</p>\n",
              "</div>"
            ],
            "text/plain": [
              "      Report Date  ... Number of PCR Testing Encounters\n",
              "217    05/15/2020  ...                              NaN\n",
              "218    05/15/2020  ...                              NaN\n",
              "219    05/15/2020  ...                              NaN\n",
              "1097   05/16/2020  ...                              NaN\n",
              "1098   05/16/2020  ...                              NaN\n",
              "...           ...  ...                              ...\n",
              "95721  09/02/2020  ...                             4780\n",
              "95722  09/02/2020  ...                               68\n",
              "96618  09/03/2020  ...                             6954\n",
              "96619  09/03/2020  ...                             4806\n",
              "96620  09/03/2020  ...                               70\n",
              "\n",
              "[327 rows x 5 columns]"
            ]
          },
          "metadata": {
            "tags": []
          },
          "execution_count": 8
        }
      ]
    },
    {
      "cell_type": "markdown",
      "metadata": {
        "id": "paDZ-fIc6dx0",
        "colab_type": "text"
      },
      "source": [
        "###va_locality_cases"
      ]
    },
    {
      "cell_type": "code",
      "metadata": {
        "id": "91351z-64F3T",
        "colab_type": "code",
        "colab": {
          "base_uri": "https://localhost:8080/",
          "height": 204
        },
        "outputId": "c08348d0-b1bd-4bf0-fe23-2e0eb0a70589"
      },
      "source": [
        "va_locality_cases.head()"
      ],
      "execution_count": 9,
      "outputs": [
        {
          "output_type": "execute_result",
          "data": {
            "text/html": [
              "<div>\n",
              "<style scoped>\n",
              "    .dataframe tbody tr th:only-of-type {\n",
              "        vertical-align: middle;\n",
              "    }\n",
              "\n",
              "    .dataframe tbody tr th {\n",
              "        vertical-align: top;\n",
              "    }\n",
              "\n",
              "    .dataframe thead th {\n",
              "        text-align: right;\n",
              "    }\n",
              "</style>\n",
              "<table border=\"1\" class=\"dataframe\">\n",
              "  <thead>\n",
              "    <tr style=\"text-align: right;\">\n",
              "      <th></th>\n",
              "      <th>Report Date</th>\n",
              "      <th>FIPS</th>\n",
              "      <th>Locality</th>\n",
              "      <th>VDH Health District</th>\n",
              "      <th>Total Cases</th>\n",
              "      <th>Hospitalizations</th>\n",
              "      <th>Deaths</th>\n",
              "    </tr>\n",
              "  </thead>\n",
              "  <tbody>\n",
              "    <tr>\n",
              "      <th>0</th>\n",
              "      <td>03/17/2020</td>\n",
              "      <td>51001</td>\n",
              "      <td>Accomack</td>\n",
              "      <td>Eastern Shore</td>\n",
              "      <td>0</td>\n",
              "      <td>0</td>\n",
              "      <td>0</td>\n",
              "    </tr>\n",
              "    <tr>\n",
              "      <th>1</th>\n",
              "      <td>03/17/2020</td>\n",
              "      <td>51003</td>\n",
              "      <td>Albemarle</td>\n",
              "      <td>Thomas Jefferson</td>\n",
              "      <td>0</td>\n",
              "      <td>0</td>\n",
              "      <td>0</td>\n",
              "    </tr>\n",
              "    <tr>\n",
              "      <th>2</th>\n",
              "      <td>03/17/2020</td>\n",
              "      <td>51005</td>\n",
              "      <td>Alleghany</td>\n",
              "      <td>Alleghany</td>\n",
              "      <td>0</td>\n",
              "      <td>0</td>\n",
              "      <td>0</td>\n",
              "    </tr>\n",
              "    <tr>\n",
              "      <th>3</th>\n",
              "      <td>03/17/2020</td>\n",
              "      <td>51007</td>\n",
              "      <td>Amelia</td>\n",
              "      <td>Piedmont</td>\n",
              "      <td>0</td>\n",
              "      <td>0</td>\n",
              "      <td>0</td>\n",
              "    </tr>\n",
              "    <tr>\n",
              "      <th>4</th>\n",
              "      <td>03/17/2020</td>\n",
              "      <td>51009</td>\n",
              "      <td>Amherst</td>\n",
              "      <td>Central Virginia</td>\n",
              "      <td>0</td>\n",
              "      <td>0</td>\n",
              "      <td>0</td>\n",
              "    </tr>\n",
              "  </tbody>\n",
              "</table>\n",
              "</div>"
            ],
            "text/plain": [
              "  Report Date   FIPS   Locality  ... Total Cases  Hospitalizations  Deaths\n",
              "0  03/17/2020  51001   Accomack  ...           0                 0       0\n",
              "1  03/17/2020  51003  Albemarle  ...           0                 0       0\n",
              "2  03/17/2020  51005  Alleghany  ...           0                 0       0\n",
              "3  03/17/2020  51007     Amelia  ...           0                 0       0\n",
              "4  03/17/2020  51009    Amherst  ...           0                 0       0\n",
              "\n",
              "[5 rows x 7 columns]"
            ]
          },
          "metadata": {
            "tags": []
          },
          "execution_count": 9
        }
      ]
    },
    {
      "cell_type": "code",
      "metadata": {
        "id": "6k90ddcS4LLr",
        "colab_type": "code",
        "colab": {}
      },
      "source": [
        "#va_comb = pd.merge(va_locality_cases,va_cases_zip, on=)"
      ],
      "execution_count": 10,
      "outputs": []
    },
    {
      "cell_type": "code",
      "metadata": {
        "id": "hBP9KhfD8JHN",
        "colab_type": "code",
        "colab": {
          "base_uri": "https://localhost:8080/",
          "height": 102
        },
        "outputId": "df10aebe-0b5e-487d-f364-817b16d7c7ea"
      },
      "source": [
        "va_locality_cases['Report Date'].describe()"
      ],
      "execution_count": 11,
      "outputs": [
        {
          "output_type": "execute_result",
          "data": {
            "text/plain": [
              "count          22743\n",
              "unique           171\n",
              "top       06/05/2020\n",
              "freq             133\n",
              "Name: Report Date, dtype: object"
            ]
          },
          "metadata": {
            "tags": []
          },
          "execution_count": 11
        }
      ]
    },
    {
      "cell_type": "code",
      "metadata": {
        "id": "lmErlb4q7o3G",
        "colab_type": "code",
        "colab": {}
      },
      "source": [
        "current_cases = va_locality_cases[va_locality_cases['Report Date'] == va_locality_cases['Report Date'].max()]"
      ],
      "execution_count": 17,
      "outputs": []
    },
    {
      "cell_type": "code",
      "metadata": {
        "id": "T6Z2fn4r7ZX3",
        "colab_type": "code",
        "colab": {
          "base_uri": "https://localhost:8080/",
          "height": 232
        },
        "outputId": "dd27b12f-c0a3-4b96-c00d-83d3eee57dc3"
      },
      "source": [
        "va_county_cases_fig = px.choropleth(va_locality_cases, geojson=counties, locations='FIPS', color='Total Cases',\n",
        " color_continuous_scale='portland',\n",
        " range_color=(va_locality_cases['Total Cases'].min(), va_locality_cases['Total Cases'].mean()*4),\n",
        " scope='usa',\n",
        " labels={'color':'Current Covid Cases',\n",
        "         'Locality':'County',\n",
        "         }\n",
        " )\n",
        "va_county_cases_fig.update_geos(fitbounds=\"locations\", visible=False)\n",
        "va_county_cases_fig.update_layout(\n",
        "    title_text = 'Positive Results by County in VA'\n",
        ")\n",
        "va_county_cases_fig.show()\n",
        "va_county_cases_fig.write_html('/content/full_map.html')"
      ],
      "execution_count": 1,
      "outputs": [
        {
          "output_type": "error",
          "ename": "NameError",
          "evalue": "ignored",
          "traceback": [
            "\u001b[0;31m---------------------------------------------------------------------------\u001b[0m",
            "\u001b[0;31mNameError\u001b[0m                                 Traceback (most recent call last)",
            "\u001b[0;32m<ipython-input-1-83f2a57a8028>\u001b[0m in \u001b[0;36m<module>\u001b[0;34m()\u001b[0m\n\u001b[0;32m----> 1\u001b[0;31m va_county_cases_fig = px.choropleth(va_locality_cases, geojson=counties, locations='FIPS', color='Total Cases',\n\u001b[0m\u001b[1;32m      2\u001b[0m  \u001b[0mcolor_continuous_scale\u001b[0m\u001b[0;34m=\u001b[0m\u001b[0;34m'portland'\u001b[0m\u001b[0;34m,\u001b[0m\u001b[0;34m\u001b[0m\u001b[0;34m\u001b[0m\u001b[0m\n\u001b[1;32m      3\u001b[0m  \u001b[0mrange_color\u001b[0m\u001b[0;34m=\u001b[0m\u001b[0;34m(\u001b[0m\u001b[0mva_locality_cases\u001b[0m\u001b[0;34m[\u001b[0m\u001b[0;34m'Total Cases'\u001b[0m\u001b[0;34m]\u001b[0m\u001b[0;34m.\u001b[0m\u001b[0mmin\u001b[0m\u001b[0;34m(\u001b[0m\u001b[0;34m)\u001b[0m\u001b[0;34m,\u001b[0m \u001b[0mva_locality_cases\u001b[0m\u001b[0;34m[\u001b[0m\u001b[0;34m'Total Cases'\u001b[0m\u001b[0;34m]\u001b[0m\u001b[0;34m.\u001b[0m\u001b[0mmean\u001b[0m\u001b[0;34m(\u001b[0m\u001b[0;34m)\u001b[0m\u001b[0;34m*\u001b[0m\u001b[0;36m4\u001b[0m\u001b[0;34m)\u001b[0m\u001b[0;34m,\u001b[0m\u001b[0;34m\u001b[0m\u001b[0;34m\u001b[0m\u001b[0m\n\u001b[1;32m      4\u001b[0m  \u001b[0mscope\u001b[0m\u001b[0;34m=\u001b[0m\u001b[0;34m'usa'\u001b[0m\u001b[0;34m,\u001b[0m\u001b[0;34m\u001b[0m\u001b[0;34m\u001b[0m\u001b[0m\n\u001b[1;32m      5\u001b[0m  labels={'color':'Current Covid Cases',\n",
            "\u001b[0;31mNameError\u001b[0m: name 'px' is not defined"
          ]
        }
      ]
    },
    {
      "cell_type": "code",
      "metadata": {
        "id": "N_zP5LCWyiE6",
        "colab_type": "code",
        "colab": {}
      },
      "source": [
        "def rolling_seven_avg(df,locality,feature,days):\n",
        "  df = df[df['Locality']==locality]\n",
        "  df['new_cases'] = df[feature].diff()\n",
        "  rolling_avg = df['new_cases'].rolling(window=days).mean()\n",
        "  df['rolling_avg'] = rolling_avg\n",
        "  return df\n",
        " "
      ],
      "execution_count": null,
      "outputs": []
    },
    {
      "cell_type": "code",
      "metadata": {
        "id": "VMG5aAM7P_iH",
        "colab_type": "code",
        "colab": {}
      },
      "source": [
        "def col_list(dataframe):\n",
        "  val_counts = dataframe.value_counts()\n",
        "  val_as_pd  = pd.DataFrame(val_counts).T\n",
        "  val_list   = val_as_pd.columns.tolist()\n",
        "  return val_list"
      ],
      "execution_count": null,
      "outputs": []
    },
    {
      "cell_type": "code",
      "metadata": {
        "id": "VLBURhHqXvZO",
        "colab_type": "code",
        "colab": {}
      },
      "source": [
        "va_locality_cases[va_locality_cases['Locality']== 'Richmond City']"
      ],
      "execution_count": null,
      "outputs": []
    },
    {
      "cell_type": "code",
      "metadata": {
        "id": "msgQs9cJCc-5",
        "colab_type": "code",
        "colab": {}
      },
      "source": [
        "harrison = rolling_seven_avg(va_locality_cases,'Harrisonburg','Total Cases',7)"
      ],
      "execution_count": null,
      "outputs": []
    },
    {
      "cell_type": "code",
      "metadata": {
        "id": "iRw_Vcu8E-7h",
        "colab_type": "code",
        "colab": {}
      },
      "source": [
        "harrison['rolling_avg'].plot(kind='bar',)"
      ],
      "execution_count": null,
      "outputs": []
    },
    {
      "cell_type": "code",
      "metadata": {
        "id": "dGEmERxoI4dK",
        "colab_type": "code",
        "colab": {}
      },
      "source": [
        "harrisonburg_sevenday_rolling = px.bar(harrison, x='Report Date', y='rolling_avg',\n",
        "                                       labels={'rolling_avg':'Number of Positive Cases', \n",
        "                                      'Report Date':'Date',})\n",
        "harrisonburg_sevenday_rolling.show()"
      ],
      "execution_count": null,
      "outputs": []
    },
    {
      "cell_type": "code",
      "metadata": {
        "id": "HLvBW6m5K_Da",
        "colab_type": "code",
        "colab": {}
      },
      "source": [
        "py.plot(harrisonburg_sevenday_rolling, filename = 'harrisonburg_sevenday_rolling', auto_open=True)"
      ],
      "execution_count": null,
      "outputs": []
    },
    {
      "cell_type": "code",
      "metadata": {
        "id": "c1MRnj32ECMv",
        "colab_type": "code",
        "colab": {}
      },
      "source": [
        "augusta = rolling_seven_avg(va_locality_cases,'Augusta','Total Cases',7)"
      ],
      "execution_count": null,
      "outputs": []
    },
    {
      "cell_type": "code",
      "metadata": {
        "id": "IbwebD-3WvS0",
        "colab_type": "code",
        "colab": {}
      },
      "source": [
        "augusta_sevenday_rolling = px.bar(augusta, x='Report Date', y='rolling_avg',\n",
        "                                  labels={'rolling_avg':'Number of Positive Cases', \n",
        "                                      'Report Date':'Date',\n",
        "                                      })\n",
        "augusta_sevenday_rolling.show()"
      ],
      "execution_count": null,
      "outputs": []
    },
    {
      "cell_type": "code",
      "metadata": {
        "id": "-93Q7PbQXAtb",
        "colab_type": "code",
        "colab": {}
      },
      "source": [
        ""
      ],
      "execution_count": null,
      "outputs": []
    }
  ]
}