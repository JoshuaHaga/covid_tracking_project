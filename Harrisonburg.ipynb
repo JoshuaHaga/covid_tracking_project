{
  "nbformat": 4,
  "nbformat_minor": 0,
  "metadata": {
    "colab": {
      "name": "Harrisonburg.ipynb",
      "provenance": [],
      "toc_visible": true,
      "authorship_tag": "ABX9TyN2lbKHVi30865rpwO2NaTl",
      "include_colab_link": true
    },
    "kernelspec": {
      "name": "python3",
      "display_name": "Python 3"
    }
  },
  "cells": [
    {
      "cell_type": "markdown",
      "metadata": {
        "id": "view-in-github",
        "colab_type": "text"
      },
      "source": [
        "<a href=\"https://colab.research.google.com/github/JoshuaHaga/covid_tracking_project/blob/master/Harrisonburg.ipynb\" target=\"_parent\"><img src=\"https://colab.research.google.com/assets/colab-badge.svg\" alt=\"Open In Colab\"/></a>"
      ]
    },
    {
      "cell_type": "markdown",
      "metadata": {
        "id": "NREZcUfmWzJ9",
        "colab_type": "text"
      },
      "source": [
        "#Instructions"
      ]
    },
    {
      "cell_type": "markdown",
      "metadata": {
        "id": "lYBmaP1JXA_i",
        "colab_type": "text"
      },
      "source": [
        ""
      ]
    },
    {
      "cell_type": "code",
      "metadata": {
        "id": "Y82wqnQ08jkb",
        "colab_type": "code",
        "colab": {
          "base_uri": "https://localhost:8080/",
          "height": 68
        },
        "outputId": "0345bc7f-3550-4bf7-a713-33724553688c"
      },
      "source": [
        "###Must run for visualizations\n",
        "!pip install plotly==4.9.0"
      ],
      "execution_count": 42,
      "outputs": [
        {
          "output_type": "stream",
          "text": [
            "Requirement already satisfied: plotly==4.9.0 in /usr/local/lib/python3.6/dist-packages (4.9.0)\n",
            "Requirement already satisfied: six in /usr/local/lib/python3.6/dist-packages (from plotly==4.9.0) (1.15.0)\n",
            "Requirement already satisfied: retrying>=1.3.3 in /usr/local/lib/python3.6/dist-packages (from plotly==4.9.0) (1.3.3)\n"
          ],
          "name": "stdout"
        }
      ]
    },
    {
      "cell_type": "code",
      "metadata": {
        "id": "Fut36P01xx8S",
        "colab_type": "code",
        "colab": {}
      },
      "source": [
        "#Libraries\n",
        "import pandas as pd\n",
        "import numpy as np\n",
        "import plotly.express as px\n",
        "import plotly as plt"
      ],
      "execution_count": 43,
      "outputs": []
    },
    {
      "cell_type": "code",
      "metadata": {
        "id": "-T03HV03OjLT",
        "colab_type": "code",
        "colab": {
          "base_uri": "https://localhost:8080/",
          "height": 139
        },
        "outputId": "ab11531f-2573-4520-baf4-4a7543576c91"
      },
      "source": [
        "!pip install sodapy"
      ],
      "execution_count": 44,
      "outputs": [
        {
          "output_type": "stream",
          "text": [
            "Requirement already satisfied: sodapy in /usr/local/lib/python3.6/dist-packages (2.1.0)\n",
            "Requirement already satisfied: requests>=2.20.0 in /usr/local/lib/python3.6/dist-packages (from sodapy) (2.23.0)\n",
            "Requirement already satisfied: chardet<4,>=3.0.2 in /usr/local/lib/python3.6/dist-packages (from requests>=2.20.0->sodapy) (3.0.4)\n",
            "Requirement already satisfied: urllib3!=1.25.0,!=1.25.1,<1.26,>=1.21.1 in /usr/local/lib/python3.6/dist-packages (from requests>=2.20.0->sodapy) (1.24.3)\n",
            "Requirement already satisfied: idna<3,>=2.5 in /usr/local/lib/python3.6/dist-packages (from requests>=2.20.0->sodapy) (2.10)\n",
            "Requirement already satisfied: certifi>=2017.4.17 in /usr/local/lib/python3.6/dist-packages (from requests>=2.20.0->sodapy) (2020.6.20)\n"
          ],
          "name": "stdout"
        }
      ]
    },
    {
      "cell_type": "code",
      "metadata": {
        "id": "licUezxSODij",
        "colab_type": "code",
        "colab": {
          "base_uri": "https://localhost:8080/",
          "height": 34
        },
        "outputId": "511d2565-0b1e-4ca1-d55a-f24879c2eddc"
      },
      "source": [
        "###Data import API\n",
        "from sodapy import Socrata\n",
        "client = Socrata(\"data.virginia.gov\", None)\n",
        "\n",
        "# Example authenticated client (needed for non-public datasets):\n",
        "# client = Socrata(data.virginia.gov,\n",
        "#                  MyAppToken,\n",
        "#                  userame=\"user@example.com\",\n",
        "#                  password=\"AFakePassword\")\n",
        "\n",
        "# First 2000 results, returned as JSON from API / converted to Python list of\n",
        "# dictionaries by sodapy.\n",
        "va_cases = client.get(\"bre9-aqqr\", limit=500000)\n",
        "va_cases_zip = client.get(\"8bkr-zfqv\", limit=500000)\n",
        "\n",
        "# Convert to pandas DataFrame\n",
        "va_locality_cases = pd.DataFrame.from_records(va_cases)\n",
        "va_cases_zip = pd.DataFrame.from_records(va_cases_zip)"
      ],
      "execution_count": 103,
      "outputs": [
        {
          "output_type": "stream",
          "text": [
            "WARNING:root:Requests made without an app_token will be subject to strict throttling limits.\n"
          ],
          "name": "stderr"
        }
      ]
    },
    {
      "cell_type": "code",
      "metadata": {
        "id": "hxFR0K257PT0",
        "colab_type": "code",
        "colab": {}
      },
      "source": [
        "#Dependencies for chloropleth\n",
        "from urllib.request import urlopen\n",
        "import json\n",
        "with urlopen('https://raw.githubusercontent.com/plotly/datasets/master/geojson-counties-fips.json') as response:\n",
        "    counties = json.load(response)"
      ],
      "execution_count": 46,
      "outputs": []
    },
    {
      "cell_type": "code",
      "metadata": {
        "id": "-zXX9nCfLRZl",
        "colab_type": "code",
        "colab": {
          "base_uri": "https://localhost:8080/",
          "height": 190
        },
        "outputId": "257862db-23d1-49f3-baf5-6928b4b746e9"
      },
      "source": [
        "#Chart studio is required in order to embed the charts\n",
        "!pip install chart_studio"
      ],
      "execution_count": 47,
      "outputs": [
        {
          "output_type": "stream",
          "text": [
            "Requirement already satisfied: chart_studio in /usr/local/lib/python3.6/dist-packages (1.1.0)\n",
            "Requirement already satisfied: plotly in /usr/local/lib/python3.6/dist-packages (from chart_studio) (4.9.0)\n",
            "Requirement already satisfied: requests in /usr/local/lib/python3.6/dist-packages (from chart_studio) (2.23.0)\n",
            "Requirement already satisfied: six in /usr/local/lib/python3.6/dist-packages (from chart_studio) (1.15.0)\n",
            "Requirement already satisfied: retrying>=1.3.3 in /usr/local/lib/python3.6/dist-packages (from chart_studio) (1.3.3)\n",
            "Requirement already satisfied: idna<3,>=2.5 in /usr/local/lib/python3.6/dist-packages (from requests->chart_studio) (2.10)\n",
            "Requirement already satisfied: certifi>=2017.4.17 in /usr/local/lib/python3.6/dist-packages (from requests->chart_studio) (2020.6.20)\n",
            "Requirement already satisfied: urllib3!=1.25.0,!=1.25.1,<1.26,>=1.21.1 in /usr/local/lib/python3.6/dist-packages (from requests->chart_studio) (1.24.3)\n",
            "Requirement already satisfied: chardet<4,>=3.0.2 in /usr/local/lib/python3.6/dist-packages (from requests->chart_studio) (3.0.4)\n"
          ],
          "name": "stdout"
        }
      ]
    },
    {
      "cell_type": "code",
      "metadata": {
        "id": "0qGTQwygLLxj",
        "colab_type": "code",
        "colab": {}
      },
      "source": [
        "#Plotly embed dependencies. API crednetials can be replaced by your own with a free account. \n",
        "import plotly\n",
        "import chart_studio\n",
        "import chart_studio.plotly as py\n",
        "username = 'josh.haga' # your username\n",
        "api_key = '6bgoxTaL6JLm9a9DquYX' # your api key - go to profile > settings > regenerate key\n",
        "chart_studio.tools.set_credentials_file(username=username, api_key=api_key)"
      ],
      "execution_count": 48,
      "outputs": []
    },
    {
      "cell_type": "code",
      "metadata": {
        "id": "ufjCRMk8x6Ja",
        "colab_type": "code",
        "colab": {}
      },
      "source": [
        "###Datasets\n",
        "###va_locality_cases = pd.read_csv('https://raw.githubusercontent.com/JoshuaHaga/covid_tracking_project/master/VDH-COVID-19-PublicUseDataset-Cases.csv')\n",
        "###va_cases_zip      = pd.read_csv('https://raw.githubusercontent.com/JoshuaHaga/covid_tracking_project/master/VDH-COVID-19-PublicUseDataset-ZIPCode.csv')"
      ],
      "execution_count": 49,
      "outputs": []
    },
    {
      "cell_type": "markdown",
      "metadata": {
        "id": "X7D0PYTGnrRz",
        "colab_type": "text"
      },
      "source": [
        "#Exploration"
      ]
    },
    {
      "cell_type": "code",
      "metadata": {
        "id": "sY0L1CKuyJIE",
        "colab_type": "code",
        "colab": {
          "base_uri": "https://localhost:8080/",
          "height": 204
        },
        "outputId": "964dc48b-1a39-4697-9d39-928d829df992"
      },
      "source": [
        "va_cases_zip.head()"
      ],
      "execution_count": 104,
      "outputs": [
        {
          "output_type": "execute_result",
          "data": {
            "text/html": [
              "<div>\n",
              "<style scoped>\n",
              "    .dataframe tbody tr th:only-of-type {\n",
              "        vertical-align: middle;\n",
              "    }\n",
              "\n",
              "    .dataframe tbody tr th {\n",
              "        vertical-align: top;\n",
              "    }\n",
              "\n",
              "    .dataframe thead th {\n",
              "        text-align: right;\n",
              "    }\n",
              "</style>\n",
              "<table border=\"1\" class=\"dataframe\">\n",
              "  <thead>\n",
              "    <tr style=\"text-align: right;\">\n",
              "      <th></th>\n",
              "      <th>report_date</th>\n",
              "      <th>zip_code</th>\n",
              "      <th>number_of_cases</th>\n",
              "      <th>number_of_pcr_testing</th>\n",
              "      <th>number_of_testing_encounters</th>\n",
              "    </tr>\n",
              "  </thead>\n",
              "  <tbody>\n",
              "    <tr>\n",
              "      <th>0</th>\n",
              "      <td>2020-09-09T00:00:00.000</td>\n",
              "      <td>20105</td>\n",
              "      <td>223</td>\n",
              "      <td>4298</td>\n",
              "      <td>NaN</td>\n",
              "    </tr>\n",
              "    <tr>\n",
              "      <th>1</th>\n",
              "      <td>2020-09-09T00:00:00.000</td>\n",
              "      <td>20106</td>\n",
              "      <td>69</td>\n",
              "      <td>548</td>\n",
              "      <td>NaN</td>\n",
              "    </tr>\n",
              "    <tr>\n",
              "      <th>2</th>\n",
              "      <td>2020-09-09T00:00:00.000</td>\n",
              "      <td>20109</td>\n",
              "      <td>1592</td>\n",
              "      <td>8936</td>\n",
              "      <td>NaN</td>\n",
              "    </tr>\n",
              "    <tr>\n",
              "      <th>3</th>\n",
              "      <td>2020-09-09T00:00:00.000</td>\n",
              "      <td>20110</td>\n",
              "      <td>1991</td>\n",
              "      <td>11347</td>\n",
              "      <td>NaN</td>\n",
              "    </tr>\n",
              "    <tr>\n",
              "      <th>4</th>\n",
              "      <td>2020-09-09T00:00:00.000</td>\n",
              "      <td>20111</td>\n",
              "      <td>1314</td>\n",
              "      <td>7518</td>\n",
              "      <td>NaN</td>\n",
              "    </tr>\n",
              "  </tbody>\n",
              "</table>\n",
              "</div>"
            ],
            "text/plain": [
              "               report_date  ... number_of_testing_encounters\n",
              "0  2020-09-09T00:00:00.000  ...                          NaN\n",
              "1  2020-09-09T00:00:00.000  ...                          NaN\n",
              "2  2020-09-09T00:00:00.000  ...                          NaN\n",
              "3  2020-09-09T00:00:00.000  ...                          NaN\n",
              "4  2020-09-09T00:00:00.000  ...                          NaN\n",
              "\n",
              "[5 rows x 5 columns]"
            ]
          },
          "metadata": {
            "tags": []
          },
          "execution_count": 104
        }
      ]
    },
    {
      "cell_type": "code",
      "metadata": {
        "id": "rQGmK_ly1SHV",
        "colab_type": "code",
        "colab": {}
      },
      "source": [
        "###Filter for just harrisonburg\n",
        "harrison_zip = [22801,22802,22803,22807]\n",
        "harrison_cases = va_cases_zip[va_cases_zip['zip_code'].isin(['22801','22802','22803','22807'])]\n",
        "#harrison_cases"
      ],
      "execution_count": 105,
      "outputs": []
    },
    {
      "cell_type": "markdown",
      "metadata": {
        "id": "paDZ-fIc6dx0",
        "colab_type": "text"
      },
      "source": [
        "###va_locality_cases"
      ]
    },
    {
      "cell_type": "code",
      "metadata": {
        "id": "t7fxiThQyMPD",
        "colab_type": "code",
        "colab": {}
      },
      "source": [
        "###Convert to datetime\n",
        "va_locality_cases['report_date'] = pd.to_datetime(va_locality_cases['report_date'])"
      ],
      "execution_count": 106,
      "outputs": []
    },
    {
      "cell_type": "code",
      "metadata": {
        "id": "91351z-64F3T",
        "colab_type": "code",
        "colab": {}
      },
      "source": [
        "va_locality_cases['report_date'] = va_locality_cases['report_date'].dt.date"
      ],
      "execution_count": 107,
      "outputs": []
    },
    {
      "cell_type": "code",
      "metadata": {
        "id": "xeU1Z_vHU2g-",
        "colab_type": "code",
        "colab": {}
      },
      "source": [
        "va_locality_cases['report_date'] = va_locality_cases['report_date'].astype(str)"
      ],
      "execution_count": 108,
      "outputs": []
    },
    {
      "cell_type": "code",
      "metadata": {
        "id": "V23w_NJ2yclo",
        "colab_type": "code",
        "colab": {}
      },
      "source": [
        "va_locality_cases = va_locality_cases.sort_values(['report_date'], ascending=True)"
      ],
      "execution_count": 120,
      "outputs": []
    },
    {
      "cell_type": "code",
      "metadata": {
        "id": "kC3lQ81wXtDN",
        "colab_type": "code",
        "colab": {
          "base_uri": "https://localhost:8080/",
          "height": 419
        },
        "outputId": "69dca392-f03c-4941-eee3-fc60062f28c0"
      },
      "source": [
        "va_locality_cases"
      ],
      "execution_count": 121,
      "outputs": [
        {
          "output_type": "execute_result",
          "data": {
            "text/html": [
              "<div>\n",
              "<style scoped>\n",
              "    .dataframe tbody tr th:only-of-type {\n",
              "        vertical-align: middle;\n",
              "    }\n",
              "\n",
              "    .dataframe tbody tr th {\n",
              "        vertical-align: top;\n",
              "    }\n",
              "\n",
              "    .dataframe thead th {\n",
              "        text-align: right;\n",
              "    }\n",
              "</style>\n",
              "<table border=\"1\" class=\"dataframe\">\n",
              "  <thead>\n",
              "    <tr style=\"text-align: right;\">\n",
              "      <th></th>\n",
              "      <th>report_date</th>\n",
              "      <th>fips</th>\n",
              "      <th>locality</th>\n",
              "      <th>vdh_health_district</th>\n",
              "      <th>total_cases</th>\n",
              "      <th>hospitalizations</th>\n",
              "      <th>deaths</th>\n",
              "    </tr>\n",
              "  </thead>\n",
              "  <tbody>\n",
              "    <tr>\n",
              "      <th>23540</th>\n",
              "      <td>2020-03-17</td>\n",
              "      <td>51840</td>\n",
              "      <td>Winchester</td>\n",
              "      <td>Lord Fairfax</td>\n",
              "      <td>0</td>\n",
              "      <td>0</td>\n",
              "      <td>0</td>\n",
              "    </tr>\n",
              "    <tr>\n",
              "      <th>23442</th>\n",
              "      <td>2020-03-17</td>\n",
              "      <td>51071</td>\n",
              "      <td>Giles</td>\n",
              "      <td>New River</td>\n",
              "      <td>0</td>\n",
              "      <td>0</td>\n",
              "      <td>0</td>\n",
              "    </tr>\n",
              "    <tr>\n",
              "      <th>23443</th>\n",
              "      <td>2020-03-17</td>\n",
              "      <td>51073</td>\n",
              "      <td>Gloucester</td>\n",
              "      <td>Three Rivers</td>\n",
              "      <td>0</td>\n",
              "      <td>0</td>\n",
              "      <td>0</td>\n",
              "    </tr>\n",
              "    <tr>\n",
              "      <th>23444</th>\n",
              "      <td>2020-03-17</td>\n",
              "      <td>51075</td>\n",
              "      <td>Goochland</td>\n",
              "      <td>Chickahominy</td>\n",
              "      <td>1</td>\n",
              "      <td>0</td>\n",
              "      <td>0</td>\n",
              "    </tr>\n",
              "    <tr>\n",
              "      <th>23445</th>\n",
              "      <td>2020-03-17</td>\n",
              "      <td>51077</td>\n",
              "      <td>Grayson</td>\n",
              "      <td>Mount Rogers</td>\n",
              "      <td>0</td>\n",
              "      <td>0</td>\n",
              "      <td>0</td>\n",
              "    </tr>\n",
              "    <tr>\n",
              "      <th>...</th>\n",
              "      <td>...</td>\n",
              "      <td>...</td>\n",
              "      <td>...</td>\n",
              "      <td>...</td>\n",
              "      <td>...</td>\n",
              "      <td>...</td>\n",
              "      <td>...</td>\n",
              "    </tr>\n",
              "    <tr>\n",
              "      <th>95</th>\n",
              "      <td>2020-09-09</td>\n",
              "      <td>51510</td>\n",
              "      <td>Alexandria</td>\n",
              "      <td>Alexandria</td>\n",
              "      <td>3546</td>\n",
              "      <td>302</td>\n",
              "      <td>62</td>\n",
              "    </tr>\n",
              "    <tr>\n",
              "      <th>96</th>\n",
              "      <td>2020-09-09</td>\n",
              "      <td>51520</td>\n",
              "      <td>Bristol</td>\n",
              "      <td>Mount Rogers</td>\n",
              "      <td>149</td>\n",
              "      <td>8</td>\n",
              "      <td>2</td>\n",
              "    </tr>\n",
              "    <tr>\n",
              "      <th>97</th>\n",
              "      <td>2020-09-09</td>\n",
              "      <td>51530</td>\n",
              "      <td>Buena Vista City</td>\n",
              "      <td>Central Shenandoah</td>\n",
              "      <td>77</td>\n",
              "      <td>4</td>\n",
              "      <td>1</td>\n",
              "    </tr>\n",
              "    <tr>\n",
              "      <th>83</th>\n",
              "      <td>2020-09-09</td>\n",
              "      <td>51175</td>\n",
              "      <td>Southampton</td>\n",
              "      <td>Western Tidewater</td>\n",
              "      <td>385</td>\n",
              "      <td>16</td>\n",
              "      <td>13</td>\n",
              "    </tr>\n",
              "    <tr>\n",
              "      <th>0</th>\n",
              "      <td>2020-09-09</td>\n",
              "      <td>51001</td>\n",
              "      <td>Accomack</td>\n",
              "      <td>Eastern Shore</td>\n",
              "      <td>1155</td>\n",
              "      <td>88</td>\n",
              "      <td>19</td>\n",
              "    </tr>\n",
              "  </tbody>\n",
              "</table>\n",
              "<p>23541 rows × 7 columns</p>\n",
              "</div>"
            ],
            "text/plain": [
              "      report_date   fips          locality  ... total_cases hospitalizations deaths\n",
              "23540  2020-03-17  51840        Winchester  ...           0                0      0\n",
              "23442  2020-03-17  51071             Giles  ...           0                0      0\n",
              "23443  2020-03-17  51073        Gloucester  ...           0                0      0\n",
              "23444  2020-03-17  51075         Goochland  ...           1                0      0\n",
              "23445  2020-03-17  51077           Grayson  ...           0                0      0\n",
              "...           ...    ...               ...  ...         ...              ...    ...\n",
              "95     2020-09-09  51510        Alexandria  ...        3546              302     62\n",
              "96     2020-09-09  51520           Bristol  ...         149                8      2\n",
              "97     2020-09-09  51530  Buena Vista City  ...          77                4      1\n",
              "83     2020-09-09  51175       Southampton  ...         385               16     13\n",
              "0      2020-09-09  51001          Accomack  ...        1155               88     19\n",
              "\n",
              "[23541 rows x 7 columns]"
            ]
          },
          "metadata": {
            "tags": []
          },
          "execution_count": 121
        }
      ]
    },
    {
      "cell_type": "code",
      "metadata": {
        "id": "6k90ddcS4LLr",
        "colab_type": "code",
        "colab": {}
      },
      "source": [
        "#va_comb = pd.merge(va_locality_cases,va_cases_zip, on=)"
      ],
      "execution_count": 110,
      "outputs": []
    },
    {
      "cell_type": "code",
      "metadata": {
        "id": "hBP9KhfD8JHN",
        "colab_type": "code",
        "colab": {
          "base_uri": "https://localhost:8080/",
          "height": 102
        },
        "outputId": "59270eff-528c-4d6f-8bf9-9b1d6020055b"
      },
      "source": [
        "va_locality_cases['report_date'].describe()"
      ],
      "execution_count": 122,
      "outputs": [
        {
          "output_type": "execute_result",
          "data": {
            "text/plain": [
              "count          23541\n",
              "unique           177\n",
              "top       2020-04-22\n",
              "freq             133\n",
              "Name: report_date, dtype: object"
            ]
          },
          "metadata": {
            "tags": []
          },
          "execution_count": 122
        }
      ]
    },
    {
      "cell_type": "code",
      "metadata": {
        "id": "lmErlb4q7o3G",
        "colab_type": "code",
        "colab": {}
      },
      "source": [
        "current_cases = va_locality_cases[va_locality_cases['report_date'] == va_locality_cases['report_date'].max()]"
      ],
      "execution_count": 123,
      "outputs": []
    },
    {
      "cell_type": "code",
      "metadata": {
        "id": "T6Z2fn4r7ZX3",
        "colab_type": "code",
        "colab": {
          "base_uri": "https://localhost:8080/",
          "height": 232
        },
        "outputId": "e1771a32-4636-4edf-c009-985872c34b5d"
      },
      "source": [
        "va_county_cases_fig = px.choropleth(va_locality_cases, geojson=counties, locations='fips', color='total_cases',\n",
        " color_continuous_scale='portland',\n",
        " range_color=(va_locality_cases['total_cases'].min(), va_locality_cases['total_cases'].mean()*4),\n",
        " scope='usa',\n",
        " labels={'color':'Current Covid Cases',\n",
        "         'locality':'County',\n",
        "         }\n",
        " )\n",
        "va_county_cases_fig.update_geos(fitbounds=\"locations\", visible=False)\n",
        "va_county_cases_fig.update_layout(\n",
        "    title_text = 'Positive Results by County in VA'\n",
        ")\n",
        "va_county_cases_fig.show()\n",
        "#va_county_cases_fig.write_html('/content/full_map.html')"
      ],
      "execution_count": 113,
      "outputs": [
        {
          "output_type": "error",
          "ename": "TypeError",
          "evalue": "ignored",
          "traceback": [
            "\u001b[0;31m---------------------------------------------------------------------------\u001b[0m",
            "\u001b[0;31mTypeError\u001b[0m                                 Traceback (most recent call last)",
            "\u001b[0;32m<ipython-input-113-e817aef4c6cf>\u001b[0m in \u001b[0;36m<module>\u001b[0;34m()\u001b[0m\n\u001b[1;32m      4\u001b[0m  \u001b[0mscope\u001b[0m\u001b[0;34m=\u001b[0m\u001b[0;34m'usa'\u001b[0m\u001b[0;34m,\u001b[0m\u001b[0;34m\u001b[0m\u001b[0;34m\u001b[0m\u001b[0m\n\u001b[1;32m      5\u001b[0m  labels={'color':'Current Covid Cases',\n\u001b[0;32m----> 6\u001b[0;31m          \u001b[0;34m'locality'\u001b[0m\u001b[0;34m:\u001b[0m\u001b[0;34m'County'\u001b[0m\u001b[0;34m,\u001b[0m\u001b[0;34m\u001b[0m\u001b[0;34m\u001b[0m\u001b[0m\n\u001b[0m\u001b[1;32m      7\u001b[0m          }\n\u001b[1;32m      8\u001b[0m  )\n",
            "\u001b[0;31mTypeError\u001b[0m: choropleth() got an unexpected keyword argument 'geojson'"
          ]
        }
      ]
    },
    {
      "cell_type": "code",
      "metadata": {
        "id": "N_zP5LCWyiE6",
        "colab_type": "code",
        "colab": {}
      },
      "source": [
        "def rolling_seven_avg(df,locality,feature,days):\n",
        "  df = df[df['locality']==locality]\n",
        "  df['new_cases'] = df[feature].astype(int).diff()\n",
        "  rolling_avg = df['new_cases'].rolling(window=days).mean()\n",
        "  df['rolling_avg'] = rolling_avg\n",
        "  return df\n",
        " "
      ],
      "execution_count": 124,
      "outputs": []
    },
    {
      "cell_type": "code",
      "metadata": {
        "id": "VMG5aAM7P_iH",
        "colab_type": "code",
        "colab": {}
      },
      "source": [
        "def col_list(dataframe):\n",
        "  val_counts = dataframe.value_counts()\n",
        "  val_as_pd  = pd.DataFrame(val_counts).T\n",
        "  val_list   = val_as_pd.columns.tolist()\n",
        "  return val_list"
      ],
      "execution_count": 125,
      "outputs": []
    },
    {
      "cell_type": "code",
      "metadata": {
        "id": "msgQs9cJCc-5",
        "colab_type": "code",
        "colab": {
          "base_uri": "https://localhost:8080/",
          "height": 289
        },
        "outputId": "7f56e528-6b5c-4034-d9b5-fce00ca2aa90"
      },
      "source": [
        "harrison = rolling_seven_avg(va_locality_cases,'Harrisonburg','total_cases',7)"
      ],
      "execution_count": 126,
      "outputs": [
        {
          "output_type": "stream",
          "text": [
            "/usr/local/lib/python3.6/dist-packages/ipykernel_launcher.py:3: SettingWithCopyWarning:\n",
            "\n",
            "\n",
            "A value is trying to be set on a copy of a slice from a DataFrame.\n",
            "Try using .loc[row_indexer,col_indexer] = value instead\n",
            "\n",
            "See the caveats in the documentation: https://pandas.pydata.org/pandas-docs/stable/user_guide/indexing.html#returning-a-view-versus-a-copy\n",
            "\n",
            "/usr/local/lib/python3.6/dist-packages/ipykernel_launcher.py:5: SettingWithCopyWarning:\n",
            "\n",
            "\n",
            "A value is trying to be set on a copy of a slice from a DataFrame.\n",
            "Try using .loc[row_indexer,col_indexer] = value instead\n",
            "\n",
            "See the caveats in the documentation: https://pandas.pydata.org/pandas-docs/stable/user_guide/indexing.html#returning-a-view-versus-a-copy\n",
            "\n"
          ],
          "name": "stderr"
        }
      ]
    },
    {
      "cell_type": "code",
      "metadata": {
        "id": "ekdrdK5lWIvr",
        "colab_type": "code",
        "colab": {
          "base_uri": "https://localhost:8080/",
          "height": 419
        },
        "outputId": "c4546f5d-db39-4fe2-bdd1-5e8af4819acd"
      },
      "source": [
        "harrison"
      ],
      "execution_count": 127,
      "outputs": [
        {
          "output_type": "execute_result",
          "data": {
            "text/html": [
              "<div>\n",
              "<style scoped>\n",
              "    .dataframe tbody tr th:only-of-type {\n",
              "        vertical-align: middle;\n",
              "    }\n",
              "\n",
              "    .dataframe tbody tr th {\n",
              "        vertical-align: top;\n",
              "    }\n",
              "\n",
              "    .dataframe thead th {\n",
              "        text-align: right;\n",
              "    }\n",
              "</style>\n",
              "<table border=\"1\" class=\"dataframe\">\n",
              "  <thead>\n",
              "    <tr style=\"text-align: right;\">\n",
              "      <th></th>\n",
              "      <th>report_date</th>\n",
              "      <th>fips</th>\n",
              "      <th>locality</th>\n",
              "      <th>vdh_health_district</th>\n",
              "      <th>total_cases</th>\n",
              "      <th>hospitalizations</th>\n",
              "      <th>deaths</th>\n",
              "      <th>new_cases</th>\n",
              "      <th>rolling_avg</th>\n",
              "    </tr>\n",
              "  </thead>\n",
              "  <tbody>\n",
              "    <tr>\n",
              "      <th>23518</th>\n",
              "      <td>2020-03-17</td>\n",
              "      <td>51660</td>\n",
              "      <td>Harrisonburg</td>\n",
              "      <td>Central Shenandoah</td>\n",
              "      <td>1</td>\n",
              "      <td>1</td>\n",
              "      <td>0</td>\n",
              "      <td>NaN</td>\n",
              "      <td>NaN</td>\n",
              "    </tr>\n",
              "    <tr>\n",
              "      <th>23385</th>\n",
              "      <td>2020-03-18</td>\n",
              "      <td>51660</td>\n",
              "      <td>Harrisonburg</td>\n",
              "      <td>Central Shenandoah</td>\n",
              "      <td>1</td>\n",
              "      <td>1</td>\n",
              "      <td>0</td>\n",
              "      <td>0.0</td>\n",
              "      <td>NaN</td>\n",
              "    </tr>\n",
              "    <tr>\n",
              "      <th>23252</th>\n",
              "      <td>2020-03-19</td>\n",
              "      <td>51660</td>\n",
              "      <td>Harrisonburg</td>\n",
              "      <td>Central Shenandoah</td>\n",
              "      <td>1</td>\n",
              "      <td>1</td>\n",
              "      <td>0</td>\n",
              "      <td>0.0</td>\n",
              "      <td>NaN</td>\n",
              "    </tr>\n",
              "    <tr>\n",
              "      <th>23119</th>\n",
              "      <td>2020-03-20</td>\n",
              "      <td>51660</td>\n",
              "      <td>Harrisonburg</td>\n",
              "      <td>Central Shenandoah</td>\n",
              "      <td>1</td>\n",
              "      <td>0</td>\n",
              "      <td>0</td>\n",
              "      <td>0.0</td>\n",
              "      <td>NaN</td>\n",
              "    </tr>\n",
              "    <tr>\n",
              "      <th>22986</th>\n",
              "      <td>2020-03-21</td>\n",
              "      <td>51660</td>\n",
              "      <td>Harrisonburg</td>\n",
              "      <td>Central Shenandoah</td>\n",
              "      <td>1</td>\n",
              "      <td>0</td>\n",
              "      <td>0</td>\n",
              "      <td>0.0</td>\n",
              "      <td>NaN</td>\n",
              "    </tr>\n",
              "    <tr>\n",
              "      <th>...</th>\n",
              "      <td>...</td>\n",
              "      <td>...</td>\n",
              "      <td>...</td>\n",
              "      <td>...</td>\n",
              "      <td>...</td>\n",
              "      <td>...</td>\n",
              "      <td>...</td>\n",
              "      <td>...</td>\n",
              "      <td>...</td>\n",
              "    </tr>\n",
              "    <tr>\n",
              "      <th>642</th>\n",
              "      <td>2020-09-05</td>\n",
              "      <td>51660</td>\n",
              "      <td>Harrisonburg</td>\n",
              "      <td>Central Shenandoah</td>\n",
              "      <td>1665</td>\n",
              "      <td>87</td>\n",
              "      <td>33</td>\n",
              "      <td>78.0</td>\n",
              "      <td>60.714286</td>\n",
              "    </tr>\n",
              "    <tr>\n",
              "      <th>509</th>\n",
              "      <td>2020-09-06</td>\n",
              "      <td>51660</td>\n",
              "      <td>Harrisonburg</td>\n",
              "      <td>Central Shenandoah</td>\n",
              "      <td>1735</td>\n",
              "      <td>87</td>\n",
              "      <td>33</td>\n",
              "      <td>70.0</td>\n",
              "      <td>64.285714</td>\n",
              "    </tr>\n",
              "    <tr>\n",
              "      <th>376</th>\n",
              "      <td>2020-09-07</td>\n",
              "      <td>51660</td>\n",
              "      <td>Harrisonburg</td>\n",
              "      <td>Central Shenandoah</td>\n",
              "      <td>1793</td>\n",
              "      <td>88</td>\n",
              "      <td>33</td>\n",
              "      <td>58.0</td>\n",
              "      <td>63.857143</td>\n",
              "    </tr>\n",
              "    <tr>\n",
              "      <th>243</th>\n",
              "      <td>2020-09-08</td>\n",
              "      <td>51660</td>\n",
              "      <td>Harrisonburg</td>\n",
              "      <td>Central Shenandoah</td>\n",
              "      <td>1936</td>\n",
              "      <td>88</td>\n",
              "      <td>33</td>\n",
              "      <td>143.0</td>\n",
              "      <td>73.285714</td>\n",
              "    </tr>\n",
              "    <tr>\n",
              "      <th>110</th>\n",
              "      <td>2020-09-09</td>\n",
              "      <td>51660</td>\n",
              "      <td>Harrisonburg</td>\n",
              "      <td>Central Shenandoah</td>\n",
              "      <td>1989</td>\n",
              "      <td>88</td>\n",
              "      <td>34</td>\n",
              "      <td>53.0</td>\n",
              "      <td>70.428571</td>\n",
              "    </tr>\n",
              "  </tbody>\n",
              "</table>\n",
              "<p>177 rows × 9 columns</p>\n",
              "</div>"
            ],
            "text/plain": [
              "      report_date   fips      locality  ... deaths new_cases rolling_avg\n",
              "23518  2020-03-17  51660  Harrisonburg  ...      0       NaN         NaN\n",
              "23385  2020-03-18  51660  Harrisonburg  ...      0       0.0         NaN\n",
              "23252  2020-03-19  51660  Harrisonburg  ...      0       0.0         NaN\n",
              "23119  2020-03-20  51660  Harrisonburg  ...      0       0.0         NaN\n",
              "22986  2020-03-21  51660  Harrisonburg  ...      0       0.0         NaN\n",
              "...           ...    ...           ...  ...    ...       ...         ...\n",
              "642    2020-09-05  51660  Harrisonburg  ...     33      78.0   60.714286\n",
              "509    2020-09-06  51660  Harrisonburg  ...     33      70.0   64.285714\n",
              "376    2020-09-07  51660  Harrisonburg  ...     33      58.0   63.857143\n",
              "243    2020-09-08  51660  Harrisonburg  ...     33     143.0   73.285714\n",
              "110    2020-09-09  51660  Harrisonburg  ...     34      53.0   70.428571\n",
              "\n",
              "[177 rows x 9 columns]"
            ]
          },
          "metadata": {
            "tags": []
          },
          "execution_count": 127
        }
      ]
    },
    {
      "cell_type": "code",
      "metadata": {
        "id": "iRw_Vcu8E-7h",
        "colab_type": "code",
        "colab": {
          "base_uri": "https://localhost:8080/",
          "height": 304
        },
        "outputId": "ee849462-ff80-4c0a-b1cd-bbba670a79fc"
      },
      "source": [
        "harrison['rolling_avg'].plot(kind='bar',)"
      ],
      "execution_count": 128,
      "outputs": [
        {
          "output_type": "execute_result",
          "data": {
            "text/plain": [
              "<matplotlib.axes._subplots.AxesSubplot at 0x7f7dca481c88>"
            ]
          },
          "metadata": {
            "tags": []
          },
          "execution_count": 128
        },
        {
          "output_type": "display_data",
          "data": {
            "image/png": "[encoded data removed]",
            "text/plain": [
              "<Figure size 432x288 with 1 Axes>"
            ]
          },
          "metadata": {
            "tags": [],
            "needs_background": "light"
          }
        }
      ]
    },
    {
      "cell_type": "code",
      "metadata": {
        "id": "txRaaiygVJKl",
        "colab_type": "code",
        "colab": {
          "base_uri": "https://localhost:8080/",
          "height": 204
        },
        "outputId": "01001e02-5d10-47ef-afc0-875180d507e0"
      },
      "source": [
        "harrison.head()"
      ],
      "execution_count": 130,
      "outputs": [
        {
          "output_type": "execute_result",
          "data": {
            "text/html": [
              "<div>\n",
              "<style scoped>\n",
              "    .dataframe tbody tr th:only-of-type {\n",
              "        vertical-align: middle;\n",
              "    }\n",
              "\n",
              "    .dataframe tbody tr th {\n",
              "        vertical-align: top;\n",
              "    }\n",
              "\n",
              "    .dataframe thead th {\n",
              "        text-align: right;\n",
              "    }\n",
              "</style>\n",
              "<table border=\"1\" class=\"dataframe\">\n",
              "  <thead>\n",
              "    <tr style=\"text-align: right;\">\n",
              "      <th></th>\n",
              "      <th>report_date</th>\n",
              "      <th>fips</th>\n",
              "      <th>locality</th>\n",
              "      <th>vdh_health_district</th>\n",
              "      <th>total_cases</th>\n",
              "      <th>hospitalizations</th>\n",
              "      <th>deaths</th>\n",
              "      <th>new_cases</th>\n",
              "      <th>rolling_avg</th>\n",
              "    </tr>\n",
              "  </thead>\n",
              "  <tbody>\n",
              "    <tr>\n",
              "      <th>23518</th>\n",
              "      <td>2020-03-17</td>\n",
              "      <td>51660</td>\n",
              "      <td>Harrisonburg</td>\n",
              "      <td>Central Shenandoah</td>\n",
              "      <td>1</td>\n",
              "      <td>1</td>\n",
              "      <td>0</td>\n",
              "      <td>NaN</td>\n",
              "      <td>NaN</td>\n",
              "    </tr>\n",
              "    <tr>\n",
              "      <th>23385</th>\n",
              "      <td>2020-03-18</td>\n",
              "      <td>51660</td>\n",
              "      <td>Harrisonburg</td>\n",
              "      <td>Central Shenandoah</td>\n",
              "      <td>1</td>\n",
              "      <td>1</td>\n",
              "      <td>0</td>\n",
              "      <td>0.0</td>\n",
              "      <td>NaN</td>\n",
              "    </tr>\n",
              "    <tr>\n",
              "      <th>23252</th>\n",
              "      <td>2020-03-19</td>\n",
              "      <td>51660</td>\n",
              "      <td>Harrisonburg</td>\n",
              "      <td>Central Shenandoah</td>\n",
              "      <td>1</td>\n",
              "      <td>1</td>\n",
              "      <td>0</td>\n",
              "      <td>0.0</td>\n",
              "      <td>NaN</td>\n",
              "    </tr>\n",
              "    <tr>\n",
              "      <th>23119</th>\n",
              "      <td>2020-03-20</td>\n",
              "      <td>51660</td>\n",
              "      <td>Harrisonburg</td>\n",
              "      <td>Central Shenandoah</td>\n",
              "      <td>1</td>\n",
              "      <td>0</td>\n",
              "      <td>0</td>\n",
              "      <td>0.0</td>\n",
              "      <td>NaN</td>\n",
              "    </tr>\n",
              "    <tr>\n",
              "      <th>22986</th>\n",
              "      <td>2020-03-21</td>\n",
              "      <td>51660</td>\n",
              "      <td>Harrisonburg</td>\n",
              "      <td>Central Shenandoah</td>\n",
              "      <td>1</td>\n",
              "      <td>0</td>\n",
              "      <td>0</td>\n",
              "      <td>0.0</td>\n",
              "      <td>NaN</td>\n",
              "    </tr>\n",
              "  </tbody>\n",
              "</table>\n",
              "</div>"
            ],
            "text/plain": [
              "      report_date   fips      locality  ... deaths new_cases rolling_avg\n",
              "23518  2020-03-17  51660  Harrisonburg  ...      0       NaN         NaN\n",
              "23385  2020-03-18  51660  Harrisonburg  ...      0       0.0         NaN\n",
              "23252  2020-03-19  51660  Harrisonburg  ...      0       0.0         NaN\n",
              "23119  2020-03-20  51660  Harrisonburg  ...      0       0.0         NaN\n",
              "22986  2020-03-21  51660  Harrisonburg  ...      0       0.0         NaN\n",
              "\n",
              "[5 rows x 9 columns]"
            ]
          },
          "metadata": {
            "tags": []
          },
          "execution_count": 130
        }
      ]
    },
    {
      "cell_type": "code",
      "metadata": {
        "id": "dGEmERxoI4dK",
        "colab_type": "code",
        "colab": {}
      },
      "source": [
        "harrisonburg_sevenday_rolling = px.bar(harrison, x='report_date', y='rolling_avg',\n",
        "                                       labels={'rolling_avg':'Number of Positive Cases', \n",
        "                                      'report_date':'Date',})\n",
        "harrisonburg_sevenday_rolling.show()"
      ],
      "execution_count": null,
      "outputs": []
    },
    {
      "cell_type": "code",
      "metadata": {
        "id": "HLvBW6m5K_Da",
        "colab_type": "code",
        "colab": {}
      },
      "source": [
        "py.plot(harrisonburg_sevenday_rolling, filename = 'harrisonburg_sevenday_rolling', auto_open=True)"
      ],
      "execution_count": null,
      "outputs": []
    },
    {
      "cell_type": "code",
      "metadata": {
        "id": "3oA5Lf9LZCeR",
        "colab_type": "code",
        "colab": {
          "base_uri": "https://localhost:8080/",
          "height": 375
        },
        "outputId": "b2cc7132-88cc-48bf-d396-797f155450f9"
      },
      "source": [
        "fig = px.bar(harrison, x='report_date', y='rolling_avg')\n",
        "fig.show()"
      ],
      "execution_count": 135,
      "outputs": [
        {
          "output_type": "error",
          "ename": "ValueError",
          "evalue": "ignored",
          "traceback": [
            "\u001b[0;31m---------------------------------------------------------------------------\u001b[0m",
            "\u001b[0;31mAttributeError\u001b[0m                            Traceback (most recent call last)",
            "\u001b[0;32m/usr/local/lib/python3.6/dist-packages/plotly/express/_core.py\u001b[0m in \u001b[0;36mapply_default_cascade\u001b[0;34m(args)\u001b[0m\n\u001b[1;32m    746\u001b[0m                 \u001b[0;34m\"type\"\u001b[0m\u001b[0;34m:\u001b[0m \u001b[0;34m\"buttons\"\u001b[0m\u001b[0;34m,\u001b[0m\u001b[0;34m\u001b[0m\u001b[0;34m\u001b[0m\u001b[0m\n\u001b[0;32m--> 747\u001b[0;31m                 \u001b[0;34m\"x\"\u001b[0m\u001b[0;34m:\u001b[0m \u001b[0;36m0.1\u001b[0m\u001b[0;34m,\u001b[0m\u001b[0;34m\u001b[0m\u001b[0;34m\u001b[0m\u001b[0m\n\u001b[0m\u001b[1;32m    748\u001b[0m                 \u001b[0;34m\"xanchor\"\u001b[0m\u001b[0;34m:\u001b[0m \u001b[0;34m\"right\"\u001b[0m\u001b[0;34m,\u001b[0m\u001b[0;34m\u001b[0m\u001b[0;34m\u001b[0m\u001b[0m\n",
            "\u001b[0;32m/usr/local/lib/python3.6/dist-packages/plotly/io/_templates.py\u001b[0m in \u001b[0;36m__getitem__\u001b[0;34m(self, item)\u001b[0m\n\u001b[1;32m     90\u001b[0m                     \u001b[0mtemplate_dict\u001b[0m \u001b[0;34m=\u001b[0m \u001b[0mjson\u001b[0m\u001b[0;34m.\u001b[0m\u001b[0mloads\u001b[0m\u001b[0;34m(\u001b[0m\u001b[0mtemplate_str\u001b[0m\u001b[0;34m)\u001b[0m\u001b[0;34m\u001b[0m\u001b[0;34m\u001b[0m\u001b[0m\n\u001b[0;32m---> 91\u001b[0;31m                     \u001b[0mtemplate\u001b[0m \u001b[0;34m=\u001b[0m \u001b[0mTemplate\u001b[0m\u001b[0;34m(\u001b[0m\u001b[0mtemplate_dict\u001b[0m\u001b[0;34m,\u001b[0m \u001b[0m_validate\u001b[0m\u001b[0;34m=\u001b[0m\u001b[0;32mFalse\u001b[0m\u001b[0;34m)\u001b[0m\u001b[0;34m\u001b[0m\u001b[0;34m\u001b[0m\u001b[0m\n\u001b[0m\u001b[1;32m     92\u001b[0m \u001b[0;34m\u001b[0m\u001b[0m\n",
            "\u001b[0;32m/usr/local/lib/python3.6/dist-packages/plotly/graph_objs/layout/__init__.py\u001b[0m in \u001b[0;36m__init__\u001b[0;34m(self, arg, data, layout, **kwargs)\u001b[0m\n",
            "\u001b[0;32m/usr/local/lib/python3.6/dist-packages/plotly/basedatatypes.py\u001b[0m in \u001b[0;36m__setitem__\u001b[0;34m(self, prop, value)\u001b[0m\n\u001b[1;32m   3481\u001b[0m         \u001b[0;34m-\u001b[0m\u001b[0;34m-\u001b[0m\u001b[0;34m-\u001b[0m\u001b[0;34m-\u001b[0m\u001b[0;34m-\u001b[0m\u001b[0;34m-\u001b[0m\u001b[0;34m-\u001b[0m\u001b[0;34m\u001b[0m\u001b[0;34m\u001b[0m\u001b[0m\n\u001b[0;32m-> 3482\u001b[0;31m         \u001b[0mdict\u001b[0m\u001b[0;34m-\u001b[0m\u001b[0mlike\u001b[0m \u001b[0minterface\u001b[0m \u001b[0;32mfor\u001b[0m \u001b[0maccessing\u001b[0m \u001b[0mthe\u001b[0m \u001b[0mobject\u001b[0m\u001b[0;31m'\u001b[0m\u001b[0ms\u001b[0m \u001b[0mvalidators\u001b[0m\u001b[0;34m\u001b[0m\u001b[0;34m\u001b[0m\u001b[0m\n\u001b[0m\u001b[1;32m   3483\u001b[0m         \"\"\"\n",
            "\u001b[0;32m/usr/local/lib/python3.6/dist-packages/plotly/basedatatypes.py\u001b[0m in \u001b[0;36m_set_compound_prop\u001b[0;34m(self, prop, val)\u001b[0m\n\u001b[1;32m   3835\u001b[0m         \u001b[0;31m# e.g. ('foo',)\u001b[0m\u001b[0;34m\u001b[0m\u001b[0;34m\u001b[0m\u001b[0;34m\u001b[0m\u001b[0m\n\u001b[0;32m-> 3836\u001b[0;31m         \u001b[0;32mif\u001b[0m \u001b[0mlen\u001b[0m\u001b[0;34m(\u001b[0m\u001b[0mprop\u001b[0m\u001b[0;34m)\u001b[0m \u001b[0;34m==\u001b[0m \u001b[0;36m1\u001b[0m\u001b[0;34m:\u001b[0m\u001b[0;34m\u001b[0m\u001b[0;34m\u001b[0m\u001b[0m\n\u001b[0m\u001b[1;32m   3837\u001b[0m             \u001b[0;31m# Unwrap scalar tuple\u001b[0m\u001b[0;34m\u001b[0m\u001b[0;34m\u001b[0m\u001b[0;34m\u001b[0m\u001b[0m\n",
            "\u001b[0;32m/usr/local/lib/python3.6/dist-packages/_plotly_utils/basevalidators.py\u001b[0m in \u001b[0;36mvalidate_coerce\u001b[0;34m(self, v, skip_invalid)\u001b[0m\n\u001b[1;32m   2443\u001b[0m             \u001b[0mv\u001b[0m \u001b[0;34m=\u001b[0m \u001b[0mself\u001b[0m\u001b[0;34m.\u001b[0m\u001b[0mdata_class\u001b[0m\u001b[0;34m(\u001b[0m\u001b[0;34m)\u001b[0m\u001b[0;34m\u001b[0m\u001b[0;34m\u001b[0m\u001b[0m\n\u001b[0;32m-> 2444\u001b[0;31m \u001b[0;34m\u001b[0m\u001b[0m\n\u001b[0m\u001b[1;32m   2445\u001b[0m         \u001b[0;32melif\u001b[0m \u001b[0misinstance\u001b[0m\u001b[0;34m(\u001b[0m\u001b[0mv\u001b[0m\u001b[0;34m,\u001b[0m \u001b[0mdict\u001b[0m\u001b[0;34m)\u001b[0m\u001b[0;34m:\u001b[0m\u001b[0;34m\u001b[0m\u001b[0;34m\u001b[0m\u001b[0m\n",
            "\u001b[0;32m/usr/local/lib/python3.6/dist-packages/plotly/graph_objs/layout/template/__init__.py\u001b[0m in \u001b[0;36m__init__\u001b[0;34m(self, arg, area, barpolar, bar, box, candlestick, carpet, choroplethmapbox, choropleth, cone, contourcarpet, contour, densitymapbox, funnelarea, funnel, heatmapgl, heatmap, histogram2dcontour, histogram2d, histogram, image, indicator, isosurface, mesh3d, ohlc, parcats, parcoords, pie, pointcloud, sankey, scatter3d, scattercarpet, scattergeo, scattergl, scattermapbox, scatterpolargl, scatterpolar, scatter, scatterternary, splom, streamtube, sunburst, surface, table, treemap, violin, volume, waterfall, **kwargs)\u001b[0m\n",
            "\u001b[0;31mAttributeError\u001b[0m: module 'plotly.validators.layout.template.data' has no attribute 'AreasValidator'",
            "\nDuring handling of the above exception, another exception occurred:\n",
            "\u001b[0;31mValueError\u001b[0m                                Traceback (most recent call last)",
            "\u001b[0;32m<ipython-input-135-b56c3b2a46b2>\u001b[0m in \u001b[0;36m<module>\u001b[0;34m()\u001b[0m\n\u001b[0;32m----> 1\u001b[0;31m \u001b[0mfig\u001b[0m \u001b[0;34m=\u001b[0m \u001b[0mpx\u001b[0m\u001b[0;34m.\u001b[0m\u001b[0mbar\u001b[0m\u001b[0;34m(\u001b[0m\u001b[0mharrison\u001b[0m\u001b[0;34m,\u001b[0m \u001b[0mx\u001b[0m\u001b[0;34m=\u001b[0m\u001b[0;34m'report_date'\u001b[0m\u001b[0;34m,\u001b[0m \u001b[0my\u001b[0m\u001b[0;34m=\u001b[0m\u001b[0;34m'rolling_avg'\u001b[0m\u001b[0;34m)\u001b[0m\u001b[0;34m\u001b[0m\u001b[0;34m\u001b[0m\u001b[0m\n\u001b[0m\u001b[1;32m      2\u001b[0m \u001b[0mfig\u001b[0m\u001b[0;34m.\u001b[0m\u001b[0mshow\u001b[0m\u001b[0;34m(\u001b[0m\u001b[0;34m)\u001b[0m\u001b[0;34m\u001b[0m\u001b[0;34m\u001b[0m\u001b[0m\n",
            "\u001b[0;32m/usr/local/lib/python3.6/dist-packages/plotly/express/_chart_types.py\u001b[0m in \u001b[0;36mbar\u001b[0;34m(data_frame, x, y, color, facet_row, facet_col, facet_col_wrap, hover_name, hover_data, custom_data, text, error_x, error_x_minus, error_y, error_y_minus, animation_frame, animation_group, category_orders, labels, color_discrete_sequence, color_discrete_map, color_continuous_scale, range_color, color_continuous_midpoint, opacity, orientation, barmode, log_x, log_y, range_x, range_y, title, template, width, height)\u001b[0m\n\u001b[1;32m    311\u001b[0m     \u001b[0mfacet_row\u001b[0m\u001b[0;34m=\u001b[0m\u001b[0;32mNone\u001b[0m\u001b[0;34m,\u001b[0m\u001b[0;34m\u001b[0m\u001b[0;34m\u001b[0m\u001b[0m\n\u001b[1;32m    312\u001b[0m     \u001b[0mfacet_col\u001b[0m\u001b[0;34m=\u001b[0m\u001b[0;32mNone\u001b[0m\u001b[0;34m,\u001b[0m\u001b[0;34m\u001b[0m\u001b[0;34m\u001b[0m\u001b[0m\n\u001b[0;32m--> 313\u001b[0;31m     \u001b[0mfacet_col_wrap\u001b[0m\u001b[0;34m=\u001b[0m\u001b[0;36m0\u001b[0m\u001b[0;34m,\u001b[0m\u001b[0;34m\u001b[0m\u001b[0;34m\u001b[0m\u001b[0m\n\u001b[0m\u001b[1;32m    314\u001b[0m     \u001b[0mfacet_row_spacing\u001b[0m\u001b[0;34m=\u001b[0m\u001b[0;32mNone\u001b[0m\u001b[0;34m,\u001b[0m\u001b[0;34m\u001b[0m\u001b[0;34m\u001b[0m\u001b[0m\n\u001b[1;32m    315\u001b[0m     \u001b[0mfacet_col_spacing\u001b[0m\u001b[0;34m=\u001b[0m\u001b[0;32mNone\u001b[0m\u001b[0;34m,\u001b[0m\u001b[0;34m\u001b[0m\u001b[0;34m\u001b[0m\u001b[0m\n",
            "\u001b[0;32m/usr/local/lib/python3.6/dist-packages/plotly/express/_core.py\u001b[0m in \u001b[0;36mmake_figure\u001b[0;34m(args, constructor, trace_patch, layout_patch)\u001b[0m\n\u001b[1;32m   1167\u001b[0m                 \u001b[0;32melif\u001b[0m \u001b[0mlength\u001b[0m \u001b[0;32mand\u001b[0m \u001b[0mlen\u001b[0m\u001b[0;34m(\u001b[0m\u001b[0mdf_input\u001b[0m\u001b[0;34m[\u001b[0m\u001b[0margument\u001b[0m\u001b[0;34m]\u001b[0m\u001b[0;34m)\u001b[0m \u001b[0;34m!=\u001b[0m \u001b[0mlength\u001b[0m\u001b[0;34m:\u001b[0m\u001b[0;34m\u001b[0m\u001b[0;34m\u001b[0m\u001b[0m\n\u001b[1;32m   1168\u001b[0m                     raise ValueError(\n\u001b[0;32m-> 1169\u001b[0;31m                         \u001b[0;34m\"All arguments should have the same length. \"\u001b[0m\u001b[0;34m\u001b[0m\u001b[0;34m\u001b[0m\u001b[0m\n\u001b[0m\u001b[1;32m   1170\u001b[0m                         \u001b[0;34m\"The length of column argument `df[%s]` is %d, whereas the \"\u001b[0m\u001b[0;34m\u001b[0m\u001b[0;34m\u001b[0m\u001b[0m\n\u001b[1;32m   1171\u001b[0m                         \u001b[0;34m\"length of  previously-processed arguments %s is %d\"\u001b[0m\u001b[0;34m\u001b[0m\u001b[0;34m\u001b[0m\u001b[0m\n",
            "\u001b[0;32m/usr/local/lib/python3.6/dist-packages/plotly/express/_core.py\u001b[0m in \u001b[0;36mapply_default_cascade\u001b[0;34m(args)\u001b[0m\n\u001b[1;32m    748\u001b[0m                 \u001b[0;34m\"xanchor\"\u001b[0m\u001b[0;34m:\u001b[0m \u001b[0;34m\"right\"\u001b[0m\u001b[0;34m,\u001b[0m\u001b[0;34m\u001b[0m\u001b[0;34m\u001b[0m\u001b[0m\n\u001b[1;32m    749\u001b[0m                 \u001b[0;34m\"y\"\u001b[0m\u001b[0;34m:\u001b[0m \u001b[0;36m0\u001b[0m\u001b[0;34m,\u001b[0m\u001b[0;34m\u001b[0m\u001b[0;34m\u001b[0m\u001b[0m\n\u001b[0;32m--> 750\u001b[0;31m                 \u001b[0;34m\"yanchor\"\u001b[0m\u001b[0;34m:\u001b[0m \u001b[0;34m\"top\"\u001b[0m\u001b[0;34m,\u001b[0m\u001b[0;34m\u001b[0m\u001b[0;34m\u001b[0m\u001b[0m\n\u001b[0m\u001b[1;32m    751\u001b[0m             }\n\u001b[1;32m    752\u001b[0m         ]\n",
            "\u001b[0;32m/usr/local/lib/python3.6/dist-packages/plotly/graph_objs/layout/__init__.py\u001b[0m in \u001b[0;36m__init__\u001b[0;34m(self, arg, data, layout, **kwargs)\u001b[0m\n",
            "\u001b[0;31mValueError\u001b[0m: The first argument to the plotly.graph_objs.layout.Template \nconstructor must be a dict or \nan instance of plotly.graph_objs.layout.Template"
          ]
        }
      ]
    },
    {
      "cell_type": "code",
      "metadata": {
        "id": "c1MRnj32ECMv",
        "colab_type": "code",
        "colab": {}
      },
      "source": [
        "augusta = rolling_seven_avg(va_locality_cases,'Augusta','total_cases',7)"
      ],
      "execution_count": null,
      "outputs": []
    },
    {
      "cell_type": "code",
      "metadata": {
        "id": "IbwebD-3WvS0",
        "colab_type": "code",
        "colab": {}
      },
      "source": [
        "augusta_sevenday_rolling = px.bar(augusta, x='Report Date', y='rolling_avg',\n",
        "                                  labels={'rolling_avg':'Number of Positive Cases', \n",
        "                                      'Report Date':'Date',\n",
        "                                      })\n",
        "#augusta_sevenday_rolling.show()"
      ],
      "execution_count": null,
      "outputs": []
    },
    {
      "cell_type": "markdown",
      "metadata": {
        "id": "cP1xojCU_0Yb",
        "colab_type": "text"
      },
      "source": [
        "# Visualizations"
      ]
    },
    {
      "cell_type": "markdown",
      "metadata": {
        "id": "ViDIlO2H_9Tu",
        "colab_type": "text"
      },
      "source": [
        "###Harrisonburg 7 day Rolling Avg"
      ]
    },
    {
      "cell_type": "code",
      "metadata": {
        "id": "-93Q7PbQXAtb",
        "colab_type": "code",
        "colab": {}
      },
      "source": [
        "harrisonburg_sevenday_rolling.show()"
      ],
      "execution_count": null,
      "outputs": []
    },
    {
      "cell_type": "code",
      "metadata": {
        "id": "vhNCAxM_SYwi",
        "colab_type": "code",
        "colab": {}
      },
      "source": [
        "####Link to embed Harrisonburg 7 day Rolling Avg\n",
        "py.plot(harrisonburg_sevenday_rolling, filename = 'harrisonburg_sevenday_rolling', auto_open=True)"
      ],
      "execution_count": null,
      "outputs": []
    },
    {
      "cell_type": "markdown",
      "metadata": {
        "id": "eteUAK37SNJA",
        "colab_type": "text"
      },
      "source": [
        "###VA Cases by county "
      ]
    },
    {
      "cell_type": "code",
      "metadata": {
        "id": "lQrymkGNSHdL",
        "colab_type": "code",
        "colab": {}
      },
      "source": [
        "va_county_cases_fig.show()"
      ],
      "execution_count": null,
      "outputs": []
    },
    {
      "cell_type": "code",
      "metadata": {
        "id": "6I0vF9wrSs7t",
        "colab_type": "code",
        "colab": {}
      },
      "source": [
        "#py.plot(va_county_cases_fig, filename = 'va_county_cases_fig', auto_open=True)"
      ],
      "execution_count": null,
      "outputs": []
    }
  ]
}