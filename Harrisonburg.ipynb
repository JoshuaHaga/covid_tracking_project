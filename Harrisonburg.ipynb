{
  "nbformat": 4,
  "nbformat_minor": 0,
  "metadata": {
    "colab": {
      "name": "Harrisonburg.ipynb",
      "provenance": [],
      "toc_visible": true,
      "authorship_tag": "ABX9TyPvX41dJX2vaSj6nIzRAl3F",
      "include_colab_link": true
    },
    "kernelspec": {
      "name": "python3",
      "display_name": "Python 3"
    }
  },
  "cells": [
    {
      "cell_type": "markdown",
      "metadata": {
        "id": "view-in-github",
        "colab_type": "text"
      },
      "source": [
        "<a href=\"https://colab.research.google.com/github/JoshuaHaga/covid_tracking_project/blob/master/Harrisonburg.ipynb\" target=\"_parent\"><img src=\"https://colab.research.google.com/assets/colab-badge.svg\" alt=\"Open In Colab\"/></a>"
      ]
    },
    {
      "cell_type": "markdown",
      "metadata": {
        "id": "NREZcUfmWzJ9",
        "colab_type": "text"
      },
      "source": [
        "#Instructions"
      ]
    },
    {
      "cell_type": "markdown",
      "metadata": {
        "id": "lYBmaP1JXA_i",
        "colab_type": "text"
      },
      "source": [
        ""
      ]
    },
    {
      "cell_type": "code",
      "metadata": {
        "id": "Y82wqnQ08jkb",
        "colab_type": "code",
        "colab": {
          "base_uri": "https://localhost:8080/",
          "height": 68
        },
        "outputId": "9aff9201-c450-421d-e428-810b9f74297a"
      },
      "source": [
        "###Must run for visualizations\n",
        "!pip install plotly==4.9.0"
      ],
      "execution_count": 19,
      "outputs": [
        {
          "output_type": "stream",
          "text": [
            "Requirement already satisfied: plotly==4.9.0 in /usr/local/lib/python3.6/dist-packages (4.9.0)\n",
            "Requirement already satisfied: retrying>=1.3.3 in /usr/local/lib/python3.6/dist-packages (from plotly==4.9.0) (1.3.3)\n",
            "Requirement already satisfied: six in /usr/local/lib/python3.6/dist-packages (from plotly==4.9.0) (1.15.0)\n"
          ],
          "name": "stdout"
        }
      ]
    },
    {
      "cell_type": "code",
      "metadata": {
        "id": "Fut36P01xx8S",
        "colab_type": "code",
        "colab": {}
      },
      "source": [
        "#Libraries\n",
        "import pandas as pd\n",
        "import numpy as np\n",
        "import plotly.express as px\n",
        "import plotly as plt"
      ],
      "execution_count": 38,
      "outputs": []
    },
    {
      "cell_type": "code",
      "metadata": {
        "id": "-T03HV03OjLT",
        "colab_type": "code",
        "colab": {
          "base_uri": "https://localhost:8080/",
          "height": 190
        },
        "outputId": "bea9e940-64f5-46c9-9fa8-37cefd50b0ba"
      },
      "source": [
        "!pip install sodapy"
      ],
      "execution_count": 2,
      "outputs": [
        {
          "output_type": "stream",
          "text": [
            "Collecting sodapy\n",
            "  Downloading https://files.pythonhosted.org/packages/9e/74/95fb7d45bbe7f1de43caac45d7dd4807ef1e15881564a00eef489a3bb5c6/sodapy-2.1.0-py2.py3-none-any.whl\n",
            "Requirement already satisfied: requests>=2.20.0 in /usr/local/lib/python3.6/dist-packages (from sodapy) (2.23.0)\n",
            "Requirement already satisfied: chardet<4,>=3.0.2 in /usr/local/lib/python3.6/dist-packages (from requests>=2.20.0->sodapy) (3.0.4)\n",
            "Requirement already satisfied: urllib3!=1.25.0,!=1.25.1,<1.26,>=1.21.1 in /usr/local/lib/python3.6/dist-packages (from requests>=2.20.0->sodapy) (1.24.3)\n",
            "Requirement already satisfied: certifi>=2017.4.17 in /usr/local/lib/python3.6/dist-packages (from requests>=2.20.0->sodapy) (2020.6.20)\n",
            "Requirement already satisfied: idna<3,>=2.5 in /usr/local/lib/python3.6/dist-packages (from requests>=2.20.0->sodapy) (2.10)\n",
            "Installing collected packages: sodapy\n",
            "Successfully installed sodapy-2.1.0\n"
          ],
          "name": "stdout"
        }
      ]
    },
    {
      "cell_type": "code",
      "metadata": {
        "id": "licUezxSODij",
        "colab_type": "code",
        "colab": {
          "base_uri": "https://localhost:8080/",
          "height": 34
        },
        "outputId": "a1523e44-33b2-4683-e1b8-dbfc5146d2d3"
      },
      "source": [
        "###Data import API\n",
        "from sodapy import Socrata\n",
        "client = Socrata(\"data.virginia.gov\", None)\n",
        "\n",
        "# Example authenticated client (needed for non-public datasets):\n",
        "# client = Socrata(data.virginia.gov,\n",
        "#                  MyAppToken,\n",
        "#                  userame=\"user@example.com\",\n",
        "#                  password=\"AFakePassword\")\n",
        "\n",
        "# First 2000 results, returned as JSON from API / converted to Python list of\n",
        "# dictionaries by sodapy.\n",
        "va_cases = client.get(\"bre9-aqqr\", limit=2000)\n",
        "va_cases_zip = client.get(\"8bkr-zfqv\", limit=2000)\n",
        "\n",
        "# Convert to pandas DataFrame\n",
        "va_locality_cases = pd.DataFrame.from_records(va_cases)\n",
        "va_cases_zip = pd.DataFrame.from_records(va_cases_zip)"
      ],
      "execution_count": 21,
      "outputs": [
        {
          "output_type": "stream",
          "text": [
            "WARNING:root:Requests made without an app_token will be subject to strict throttling limits.\n"
          ],
          "name": "stderr"
        }
      ]
    },
    {
      "cell_type": "code",
      "metadata": {
        "id": "hxFR0K257PT0",
        "colab_type": "code",
        "colab": {}
      },
      "source": [
        "#Dependencies for chloropleth\n",
        "from urllib.request import urlopen\n",
        "import json\n",
        "with urlopen('https://raw.githubusercontent.com/plotly/datasets/master/geojson-counties-fips.json') as response:\n",
        "    counties = json.load(response)"
      ],
      "execution_count": 22,
      "outputs": []
    },
    {
      "cell_type": "code",
      "metadata": {
        "id": "-zXX9nCfLRZl",
        "colab_type": "code",
        "colab": {
          "base_uri": "https://localhost:8080/",
          "height": 190
        },
        "outputId": "f9032171-eb6f-4f77-baea-9f108c172452"
      },
      "source": [
        "#Chart studio is required in order to embed the charts\n",
        "!pip install chart_studio"
      ],
      "execution_count": 23,
      "outputs": [
        {
          "output_type": "stream",
          "text": [
            "Requirement already satisfied: chart_studio in /usr/local/lib/python3.6/dist-packages (1.1.0)\n",
            "Requirement already satisfied: retrying>=1.3.3 in /usr/local/lib/python3.6/dist-packages (from chart_studio) (1.3.3)\n",
            "Requirement already satisfied: plotly in /usr/local/lib/python3.6/dist-packages (from chart_studio) (4.9.0)\n",
            "Requirement already satisfied: six in /usr/local/lib/python3.6/dist-packages (from chart_studio) (1.15.0)\n",
            "Requirement already satisfied: requests in /usr/local/lib/python3.6/dist-packages (from chart_studio) (2.23.0)\n",
            "Requirement already satisfied: urllib3!=1.25.0,!=1.25.1,<1.26,>=1.21.1 in /usr/local/lib/python3.6/dist-packages (from requests->chart_studio) (1.24.3)\n",
            "Requirement already satisfied: idna<3,>=2.5 in /usr/local/lib/python3.6/dist-packages (from requests->chart_studio) (2.10)\n",
            "Requirement already satisfied: chardet<4,>=3.0.2 in /usr/local/lib/python3.6/dist-packages (from requests->chart_studio) (3.0.4)\n",
            "Requirement already satisfied: certifi>=2017.4.17 in /usr/local/lib/python3.6/dist-packages (from requests->chart_studio) (2020.6.20)\n"
          ],
          "name": "stdout"
        }
      ]
    },
    {
      "cell_type": "code",
      "metadata": {
        "id": "0qGTQwygLLxj",
        "colab_type": "code",
        "colab": {}
      },
      "source": [
        "#Plotly embed dependencies. API crednetials can be replaced by your own with a free account. \n",
        "import plotly\n",
        "import chart_studio\n",
        "import chart_studio.plotly as py\n",
        "username = 'josh.haga' # your username\n",
        "api_key = '6bgoxTaL6JLm9a9DquYX' # your api key - go to profile > settings > regenerate key\n",
        "chart_studio.tools.set_credentials_file(username=username, api_key=api_key)"
      ],
      "execution_count": 24,
      "outputs": []
    },
    {
      "cell_type": "code",
      "metadata": {
        "id": "ufjCRMk8x6Ja",
        "colab_type": "code",
        "colab": {}
      },
      "source": [
        "###Datasets\n",
        "###va_locality_cases = pd.read_csv('https://raw.githubusercontent.com/JoshuaHaga/covid_tracking_project/master/VDH-COVID-19-PublicUseDataset-Cases.csv')\n",
        "###va_cases_zip      = pd.read_csv('https://raw.githubusercontent.com/JoshuaHaga/covid_tracking_project/master/VDH-COVID-19-PublicUseDataset-ZIPCode.csv')"
      ],
      "execution_count": 25,
      "outputs": []
    },
    {
      "cell_type": "markdown",
      "metadata": {
        "id": "X7D0PYTGnrRz",
        "colab_type": "text"
      },
      "source": [
        "#Exploration"
      ]
    },
    {
      "cell_type": "code",
      "metadata": {
        "id": "sY0L1CKuyJIE",
        "colab_type": "code",
        "colab": {
          "base_uri": "https://localhost:8080/",
          "height": 204
        },
        "outputId": "2de26d37-8d5b-4ddd-e24e-07031033cdf9"
      },
      "source": [
        "va_cases_zip.head()"
      ],
      "execution_count": 26,
      "outputs": [
        {
          "output_type": "execute_result",
          "data": {
            "text/html": [
              "<div>\n",
              "<style scoped>\n",
              "    .dataframe tbody tr th:only-of-type {\n",
              "        vertical-align: middle;\n",
              "    }\n",
              "\n",
              "    .dataframe tbody tr th {\n",
              "        vertical-align: top;\n",
              "    }\n",
              "\n",
              "    .dataframe thead th {\n",
              "        text-align: right;\n",
              "    }\n",
              "</style>\n",
              "<table border=\"1\" class=\"dataframe\">\n",
              "  <thead>\n",
              "    <tr style=\"text-align: right;\">\n",
              "      <th></th>\n",
              "      <th>report_date</th>\n",
              "      <th>zip_code</th>\n",
              "      <th>number_of_cases</th>\n",
              "      <th>number_of_pcr_testing</th>\n",
              "    </tr>\n",
              "  </thead>\n",
              "  <tbody>\n",
              "    <tr>\n",
              "      <th>0</th>\n",
              "      <td>2020-09-09T00:00:00.000</td>\n",
              "      <td>20105</td>\n",
              "      <td>223</td>\n",
              "      <td>4298</td>\n",
              "    </tr>\n",
              "    <tr>\n",
              "      <th>1</th>\n",
              "      <td>2020-09-09T00:00:00.000</td>\n",
              "      <td>20106</td>\n",
              "      <td>69</td>\n",
              "      <td>548</td>\n",
              "    </tr>\n",
              "    <tr>\n",
              "      <th>2</th>\n",
              "      <td>2020-09-09T00:00:00.000</td>\n",
              "      <td>20109</td>\n",
              "      <td>1592</td>\n",
              "      <td>8936</td>\n",
              "    </tr>\n",
              "    <tr>\n",
              "      <th>3</th>\n",
              "      <td>2020-09-09T00:00:00.000</td>\n",
              "      <td>20110</td>\n",
              "      <td>1991</td>\n",
              "      <td>11347</td>\n",
              "    </tr>\n",
              "    <tr>\n",
              "      <th>4</th>\n",
              "      <td>2020-09-09T00:00:00.000</td>\n",
              "      <td>20111</td>\n",
              "      <td>1314</td>\n",
              "      <td>7518</td>\n",
              "    </tr>\n",
              "  </tbody>\n",
              "</table>\n",
              "</div>"
            ],
            "text/plain": [
              "               report_date zip_code number_of_cases number_of_pcr_testing\n",
              "0  2020-09-09T00:00:00.000    20105             223                  4298\n",
              "1  2020-09-09T00:00:00.000    20106              69                   548\n",
              "2  2020-09-09T00:00:00.000    20109            1592                  8936\n",
              "3  2020-09-09T00:00:00.000    20110            1991                 11347\n",
              "4  2020-09-09T00:00:00.000    20111            1314                  7518"
            ]
          },
          "metadata": {
            "tags": []
          },
          "execution_count": 26
        }
      ]
    },
    {
      "cell_type": "code",
      "metadata": {
        "id": "rQGmK_ly1SHV",
        "colab_type": "code",
        "colab": {}
      },
      "source": [
        "###Filter for just harrisonburg\n",
        "harrison_zip = [22801,22802,22803,22807]\n",
        "harrison_cases = va_cases_zip[va_cases_zip['zip_code'].isin(['22801','22802','22803','22807'])]\n",
        "#harrison_cases"
      ],
      "execution_count": 27,
      "outputs": []
    },
    {
      "cell_type": "markdown",
      "metadata": {
        "id": "paDZ-fIc6dx0",
        "colab_type": "text"
      },
      "source": [
        "###va_locality_cases"
      ]
    },
    {
      "cell_type": "code",
      "metadata": {
        "id": "t7fxiThQyMPD",
        "colab_type": "code",
        "colab": {}
      },
      "source": [
        "###Convert to datetime\n",
        "va_locality_cases['report_date'] = pd.to_datetime(va_locality_cases['report_date'])"
      ],
      "execution_count": 28,
      "outputs": []
    },
    {
      "cell_type": "code",
      "metadata": {
        "id": "91351z-64F3T",
        "colab_type": "code",
        "colab": {}
      },
      "source": [
        "va_locality_cases['report_date'] = va_locality_cases['report_date'].dt.date"
      ],
      "execution_count": 29,
      "outputs": []
    },
    {
      "cell_type": "code",
      "metadata": {
        "id": "V23w_NJ2yclo",
        "colab_type": "code",
        "colab": {
          "base_uri": "https://localhost:8080/",
          "height": 419
        },
        "outputId": "5f20507d-dcd5-4769-8b92-5073311a057f"
      },
      "source": [
        "va_locality_cases"
      ],
      "execution_count": 30,
      "outputs": [
        {
          "output_type": "execute_result",
          "data": {
            "text/html": [
              "<div>\n",
              "<style scoped>\n",
              "    .dataframe tbody tr th:only-of-type {\n",
              "        vertical-align: middle;\n",
              "    }\n",
              "\n",
              "    .dataframe tbody tr th {\n",
              "        vertical-align: top;\n",
              "    }\n",
              "\n",
              "    .dataframe thead th {\n",
              "        text-align: right;\n",
              "    }\n",
              "</style>\n",
              "<table border=\"1\" class=\"dataframe\">\n",
              "  <thead>\n",
              "    <tr style=\"text-align: right;\">\n",
              "      <th></th>\n",
              "      <th>report_date</th>\n",
              "      <th>fips</th>\n",
              "      <th>locality</th>\n",
              "      <th>vdh_health_district</th>\n",
              "      <th>total_cases</th>\n",
              "      <th>hospitalizations</th>\n",
              "      <th>deaths</th>\n",
              "    </tr>\n",
              "  </thead>\n",
              "  <tbody>\n",
              "    <tr>\n",
              "      <th>0</th>\n",
              "      <td>2020-09-09</td>\n",
              "      <td>51001</td>\n",
              "      <td>Accomack</td>\n",
              "      <td>Eastern Shore</td>\n",
              "      <td>1155</td>\n",
              "      <td>88</td>\n",
              "      <td>19</td>\n",
              "    </tr>\n",
              "    <tr>\n",
              "      <th>1</th>\n",
              "      <td>2020-09-09</td>\n",
              "      <td>51003</td>\n",
              "      <td>Albemarle</td>\n",
              "      <td>Thomas Jefferson</td>\n",
              "      <td>1101</td>\n",
              "      <td>69</td>\n",
              "      <td>19</td>\n",
              "    </tr>\n",
              "    <tr>\n",
              "      <th>2</th>\n",
              "      <td>2020-09-09</td>\n",
              "      <td>51005</td>\n",
              "      <td>Alleghany</td>\n",
              "      <td>Alleghany</td>\n",
              "      <td>71</td>\n",
              "      <td>8</td>\n",
              "      <td>4</td>\n",
              "    </tr>\n",
              "    <tr>\n",
              "      <th>3</th>\n",
              "      <td>2020-09-09</td>\n",
              "      <td>51007</td>\n",
              "      <td>Amelia</td>\n",
              "      <td>Piedmont</td>\n",
              "      <td>113</td>\n",
              "      <td>13</td>\n",
              "      <td>3</td>\n",
              "    </tr>\n",
              "    <tr>\n",
              "      <th>4</th>\n",
              "      <td>2020-09-09</td>\n",
              "      <td>51009</td>\n",
              "      <td>Amherst</td>\n",
              "      <td>Central Virginia</td>\n",
              "      <td>327</td>\n",
              "      <td>10</td>\n",
              "      <td>1</td>\n",
              "    </tr>\n",
              "    <tr>\n",
              "      <th>...</th>\n",
              "      <td>...</td>\n",
              "      <td>...</td>\n",
              "      <td>...</td>\n",
              "      <td>...</td>\n",
              "      <td>...</td>\n",
              "      <td>...</td>\n",
              "      <td>...</td>\n",
              "    </tr>\n",
              "    <tr>\n",
              "      <th>1995</th>\n",
              "      <td>2020-08-25</td>\n",
              "      <td>51001</td>\n",
              "      <td>Accomack</td>\n",
              "      <td>Eastern Shore</td>\n",
              "      <td>1135</td>\n",
              "      <td>88</td>\n",
              "      <td>18</td>\n",
              "    </tr>\n",
              "    <tr>\n",
              "      <th>1996</th>\n",
              "      <td>2020-08-25</td>\n",
              "      <td>51003</td>\n",
              "      <td>Albemarle</td>\n",
              "      <td>Thomas Jefferson</td>\n",
              "      <td>975</td>\n",
              "      <td>65</td>\n",
              "      <td>16</td>\n",
              "    </tr>\n",
              "    <tr>\n",
              "      <th>1997</th>\n",
              "      <td>2020-08-25</td>\n",
              "      <td>51005</td>\n",
              "      <td>Alleghany</td>\n",
              "      <td>Alleghany</td>\n",
              "      <td>61</td>\n",
              "      <td>7</td>\n",
              "      <td>4</td>\n",
              "    </tr>\n",
              "    <tr>\n",
              "      <th>1998</th>\n",
              "      <td>2020-08-25</td>\n",
              "      <td>51007</td>\n",
              "      <td>Amelia</td>\n",
              "      <td>Piedmont</td>\n",
              "      <td>93</td>\n",
              "      <td>13</td>\n",
              "      <td>2</td>\n",
              "    </tr>\n",
              "    <tr>\n",
              "      <th>1999</th>\n",
              "      <td>2020-08-25</td>\n",
              "      <td>51009</td>\n",
              "      <td>Amherst</td>\n",
              "      <td>Central Virginia</td>\n",
              "      <td>270</td>\n",
              "      <td>9</td>\n",
              "      <td>1</td>\n",
              "    </tr>\n",
              "  </tbody>\n",
              "</table>\n",
              "<p>2000 rows × 7 columns</p>\n",
              "</div>"
            ],
            "text/plain": [
              "     report_date   fips   locality  ... total_cases hospitalizations deaths\n",
              "0     2020-09-09  51001   Accomack  ...        1155               88     19\n",
              "1     2020-09-09  51003  Albemarle  ...        1101               69     19\n",
              "2     2020-09-09  51005  Alleghany  ...          71                8      4\n",
              "3     2020-09-09  51007     Amelia  ...         113               13      3\n",
              "4     2020-09-09  51009    Amherst  ...         327               10      1\n",
              "...          ...    ...        ...  ...         ...              ...    ...\n",
              "1995  2020-08-25  51001   Accomack  ...        1135               88     18\n",
              "1996  2020-08-25  51003  Albemarle  ...         975               65     16\n",
              "1997  2020-08-25  51005  Alleghany  ...          61                7      4\n",
              "1998  2020-08-25  51007     Amelia  ...          93               13      2\n",
              "1999  2020-08-25  51009    Amherst  ...         270                9      1\n",
              "\n",
              "[2000 rows x 7 columns]"
            ]
          },
          "metadata": {
            "tags": []
          },
          "execution_count": 30
        }
      ]
    },
    {
      "cell_type": "code",
      "metadata": {
        "id": "6k90ddcS4LLr",
        "colab_type": "code",
        "colab": {}
      },
      "source": [
        "#va_comb = pd.merge(va_locality_cases,va_cases_zip, on=)"
      ],
      "execution_count": 31,
      "outputs": []
    },
    {
      "cell_type": "code",
      "metadata": {
        "id": "hBP9KhfD8JHN",
        "colab_type": "code",
        "colab": {
          "base_uri": "https://localhost:8080/",
          "height": 102
        },
        "outputId": "e6aad0e9-3b15-40dc-df1e-89f0066743b5"
      },
      "source": [
        "va_locality_cases['report_date'].describe()"
      ],
      "execution_count": 32,
      "outputs": [
        {
          "output_type": "execute_result",
          "data": {
            "text/plain": [
              "count           2000\n",
              "unique            16\n",
              "top       2020-09-02\n",
              "freq             133\n",
              "Name: report_date, dtype: object"
            ]
          },
          "metadata": {
            "tags": []
          },
          "execution_count": 32
        }
      ]
    },
    {
      "cell_type": "code",
      "metadata": {
        "id": "lmErlb4q7o3G",
        "colab_type": "code",
        "colab": {}
      },
      "source": [
        "current_cases = va_locality_cases[va_locality_cases['report_date'] == va_locality_cases['report_date'].max()]"
      ],
      "execution_count": 33,
      "outputs": []
    },
    {
      "cell_type": "code",
      "metadata": {
        "id": "T6Z2fn4r7ZX3",
        "colab_type": "code",
        "colab": {
          "base_uri": "https://localhost:8080/",
          "height": 232
        },
        "outputId": "67de8e95-5221-4cfd-f869-3add8d2712b1"
      },
      "source": [
        "va_county_cases_fig = px.choropleth(va_locality_cases, geojson=counties, locations='fips', color='total_cases',\n",
        " color_continuous_scale='portland',\n",
        " range_color=(va_locality_cases['total_cases'].min(), va_locality_cases['total_cases'].mean()*4),\n",
        " scope='usa',\n",
        " labels={'color':'Current Covid Cases',\n",
        "         'locality':'County',\n",
        "         }\n",
        " )\n",
        "va_county_cases_fig.update_geos(fitbounds=\"locations\", visible=False)\n",
        "va_county_cases_fig.update_layout(\n",
        "    title_text = 'Positive Results by County in VA'\n",
        ")\n",
        "va_county_cases_fig.show()\n",
        "#va_county_cases_fig.write_html('/content/full_map.html')"
      ],
      "execution_count": 41,
      "outputs": [
        {
          "output_type": "error",
          "ename": "TypeError",
          "evalue": "ignored",
          "traceback": [
            "\u001b[0;31m---------------------------------------------------------------------------\u001b[0m",
            "\u001b[0;31mTypeError\u001b[0m                                 Traceback (most recent call last)",
            "\u001b[0;32m<ipython-input-41-e817aef4c6cf>\u001b[0m in \u001b[0;36m<module>\u001b[0;34m()\u001b[0m\n\u001b[1;32m      4\u001b[0m  \u001b[0mscope\u001b[0m\u001b[0;34m=\u001b[0m\u001b[0;34m'usa'\u001b[0m\u001b[0;34m,\u001b[0m\u001b[0;34m\u001b[0m\u001b[0;34m\u001b[0m\u001b[0m\n\u001b[1;32m      5\u001b[0m  labels={'color':'Current Covid Cases',\n\u001b[0;32m----> 6\u001b[0;31m          \u001b[0;34m'locality'\u001b[0m\u001b[0;34m:\u001b[0m\u001b[0;34m'County'\u001b[0m\u001b[0;34m,\u001b[0m\u001b[0;34m\u001b[0m\u001b[0;34m\u001b[0m\u001b[0m\n\u001b[0m\u001b[1;32m      7\u001b[0m          }\n\u001b[1;32m      8\u001b[0m  )\n",
            "\u001b[0;31mTypeError\u001b[0m: choropleth() got an unexpected keyword argument 'geojson'"
          ]
        }
      ]
    },
    {
      "cell_type": "code",
      "metadata": {
        "id": "N_zP5LCWyiE6",
        "colab_type": "code",
        "colab": {}
      },
      "source": [
        "def rolling_seven_avg(df,locality,feature,days):\n",
        "  df = df[df['locality']==locality]\n",
        "  df['new_cases'] = df[feature].astype(int).diff()\n",
        "  rolling_avg = df['new_cases'].rolling(window=days).mean()\n",
        "  df['rolling_avg'] = rolling_avg\n",
        "  return df\n",
        " "
      ],
      "execution_count": null,
      "outputs": []
    },
    {
      "cell_type": "code",
      "metadata": {
        "id": "VMG5aAM7P_iH",
        "colab_type": "code",
        "colab": {}
      },
      "source": [
        "def col_list(dataframe):\n",
        "  val_counts = dataframe.value_counts()\n",
        "  val_as_pd  = pd.DataFrame(val_counts).T\n",
        "  val_list   = val_as_pd.columns.tolist()\n",
        "  return val_list"
      ],
      "execution_count": null,
      "outputs": []
    },
    {
      "cell_type": "code",
      "metadata": {
        "id": "msgQs9cJCc-5",
        "colab_type": "code",
        "colab": {}
      },
      "source": [
        "harrison = rolling_seven_avg(va_locality_cases,'Harrisonburg','total_cases',7)"
      ],
      "execution_count": null,
      "outputs": []
    },
    {
      "cell_type": "code",
      "metadata": {
        "id": "iRw_Vcu8E-7h",
        "colab_type": "code",
        "colab": {}
      },
      "source": [
        "harrison['rolling_avg'].plot(kind='bar',)"
      ],
      "execution_count": null,
      "outputs": []
    },
    {
      "cell_type": "code",
      "metadata": {
        "id": "dGEmERxoI4dK",
        "colab_type": "code",
        "colab": {}
      },
      "source": [
        "harrisonburg_sevenday_rolling = px.bar(harrison, x='report_date', y='rolling_avg',\n",
        "                                       labels={'rolling_avg':'Number of Positive Cases', \n",
        "                                      'report_date':'Date',})\n",
        "harrisonburg_sevenday_rolling.show()"
      ],
      "execution_count": null,
      "outputs": []
    },
    {
      "cell_type": "code",
      "metadata": {
        "id": "HLvBW6m5K_Da",
        "colab_type": "code",
        "colab": {}
      },
      "source": [
        "py.plot(harrisonburg_sevenday_rolling, filename = 'harrisonburg_sevenday_rolling', auto_open=True)"
      ],
      "execution_count": null,
      "outputs": []
    },
    {
      "cell_type": "code",
      "metadata": {
        "id": "c1MRnj32ECMv",
        "colab_type": "code",
        "colab": {}
      },
      "source": [
        "augusta = rolling_seven_avg(va_locality_cases,'Augusta','total_cases',7)"
      ],
      "execution_count": null,
      "outputs": []
    },
    {
      "cell_type": "code",
      "metadata": {
        "id": "IbwebD-3WvS0",
        "colab_type": "code",
        "colab": {}
      },
      "source": [
        "augusta_sevenday_rolling = px.bar(augusta, x='Report Date', y='rolling_avg',\n",
        "                                  labels={'rolling_avg':'Number of Positive Cases', \n",
        "                                      'Report Date':'Date',\n",
        "                                      })\n",
        "#augusta_sevenday_rolling.show()"
      ],
      "execution_count": null,
      "outputs": []
    },
    {
      "cell_type": "markdown",
      "metadata": {
        "id": "cP1xojCU_0Yb",
        "colab_type": "text"
      },
      "source": [
        "# Visualizations"
      ]
    },
    {
      "cell_type": "markdown",
      "metadata": {
        "id": "ViDIlO2H_9Tu",
        "colab_type": "text"
      },
      "source": [
        "###Harrisonburg 7 day Rolling Avg"
      ]
    },
    {
      "cell_type": "code",
      "metadata": {
        "id": "-93Q7PbQXAtb",
        "colab_type": "code",
        "colab": {}
      },
      "source": [
        "harrisonburg_sevenday_rolling.show()"
      ],
      "execution_count": null,
      "outputs": []
    },
    {
      "cell_type": "code",
      "metadata": {
        "id": "vhNCAxM_SYwi",
        "colab_type": "code",
        "colab": {}
      },
      "source": [
        "####Link to embed Harrisonburg 7 day Rolling Avg\n",
        "py.plot(harrisonburg_sevenday_rolling, filename = 'harrisonburg_sevenday_rolling', auto_open=True)"
      ],
      "execution_count": null,
      "outputs": []
    },
    {
      "cell_type": "markdown",
      "metadata": {
        "id": "eteUAK37SNJA",
        "colab_type": "text"
      },
      "source": [
        "###VA Cases by county "
      ]
    },
    {
      "cell_type": "code",
      "metadata": {
        "id": "lQrymkGNSHdL",
        "colab_type": "code",
        "colab": {}
      },
      "source": [
        "va_county_cases_fig.show()"
      ],
      "execution_count": null,
      "outputs": []
    },
    {
      "cell_type": "code",
      "metadata": {
        "id": "6I0vF9wrSs7t",
        "colab_type": "code",
        "colab": {}
      },
      "source": [
        "#py.plot(va_county_cases_fig, filename = 'va_county_cases_fig', auto_open=True)"
      ],
      "execution_count": null,
      "outputs": []
    }
  ]
}