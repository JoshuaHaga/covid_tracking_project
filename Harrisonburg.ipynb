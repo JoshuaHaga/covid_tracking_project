{
  "nbformat": 4,
  "nbformat_minor": 0,
  "metadata": {
    "colab": {
      "name": "Harrisonburg.ipynb",
      "provenance": [],
      "toc_visible": true,
      "authorship_tag": "ABX9TyNAszRqV5fG6aCYMZxyP3vU",
      "include_colab_link": true
    },
    "kernelspec": {
      "name": "python3",
      "display_name": "Python 3"
    }
  },
  "cells": [
    {
      "cell_type": "markdown",
      "metadata": {
        "id": "view-in-github",
        "colab_type": "text"
      },
      "source": [
        "<a href=\"https://colab.research.google.com/github/JoshuaHaga/covid_tracking_project/blob/master/Harrisonburg.ipynb\" target=\"_parent\"><img src=\"https://colab.research.google.com/assets/colab-badge.svg\" alt=\"Open In Colab\"/></a>"
      ]
    },
    {
      "cell_type": "code",
      "metadata": {
        "id": "Fut36P01xx8S",
        "colab_type": "code",
        "colab": {}
      },
      "source": [
        "#Libraries\n",
        "import pandas as pd\n",
        "import numpy as np\n",
        "import plotly.express as px"
      ],
      "execution_count": 17,
      "outputs": []
    },
    {
      "cell_type": "code",
      "metadata": {
        "id": "Y82wqnQ08jkb",
        "colab_type": "code",
        "colab": {
          "base_uri": "https://localhost:8080/",
          "height": 68
        },
        "outputId": "043c8491-8e6a-4667-86f0-052aff23d72e"
      },
      "source": [
        "###Must run for visualizations\n",
        "!pip install plotly==4.9.0"
      ],
      "execution_count": 30,
      "outputs": [
        {
          "output_type": "stream",
          "text": [
            "Requirement already satisfied: plotly==4.9.0 in /usr/local/lib/python3.6/dist-packages (4.9.0)\n",
            "Requirement already satisfied: retrying>=1.3.3 in /usr/local/lib/python3.6/dist-packages (from plotly==4.9.0) (1.3.3)\n",
            "Requirement already satisfied: six in /usr/local/lib/python3.6/dist-packages (from plotly==4.9.0) (1.15.0)\n"
          ],
          "name": "stdout"
        }
      ]
    },
    {
      "cell_type": "code",
      "metadata": {
        "id": "hxFR0K257PT0",
        "colab_type": "code",
        "colab": {}
      },
      "source": [
        "#Dependencies for chloropleth\n",
        "from urllib.request import urlopen\n",
        "import json\n",
        "with urlopen('https://raw.githubusercontent.com/plotly/datasets/master/geojson-counties-fips.json') as response:\n",
        "    counties = json.load(response)"
      ],
      "execution_count": 32,
      "outputs": []
    },
    {
      "cell_type": "code",
      "metadata": {
        "id": "-zXX9nCfLRZl",
        "colab_type": "code",
        "colab": {
          "base_uri": "https://localhost:8080/",
          "height": 190
        },
        "outputId": "73036b32-ce5e-45b8-8620-0a04b4aea011"
      },
      "source": [
        "#Chart studio is required in order to embed the charts\n",
        "!pip install chart_studio"
      ],
      "execution_count": 20,
      "outputs": [
        {
          "output_type": "stream",
          "text": [
            "Requirement already satisfied: chart_studio in /usr/local/lib/python3.6/dist-packages (1.1.0)\n",
            "Requirement already satisfied: requests in /usr/local/lib/python3.6/dist-packages (from chart_studio) (2.23.0)\n",
            "Requirement already satisfied: six in /usr/local/lib/python3.6/dist-packages (from chart_studio) (1.15.0)\n",
            "Requirement already satisfied: retrying>=1.3.3 in /usr/local/lib/python3.6/dist-packages (from chart_studio) (1.3.3)\n",
            "Requirement already satisfied: plotly in /usr/local/lib/python3.6/dist-packages (from chart_studio) (4.9.0)\n",
            "Requirement already satisfied: urllib3!=1.25.0,!=1.25.1,<1.26,>=1.21.1 in /usr/local/lib/python3.6/dist-packages (from requests->chart_studio) (1.24.3)\n",
            "Requirement already satisfied: chardet<4,>=3.0.2 in /usr/local/lib/python3.6/dist-packages (from requests->chart_studio) (3.0.4)\n",
            "Requirement already satisfied: certifi>=2017.4.17 in /usr/local/lib/python3.6/dist-packages (from requests->chart_studio) (2020.6.20)\n",
            "Requirement already satisfied: idna<3,>=2.5 in /usr/local/lib/python3.6/dist-packages (from requests->chart_studio) (2.10)\n"
          ],
          "name": "stdout"
        }
      ]
    },
    {
      "cell_type": "code",
      "metadata": {
        "id": "0qGTQwygLLxj",
        "colab_type": "code",
        "colab": {}
      },
      "source": [
        "#Plotly embed dependencies. API crednetials can be replaced by your own with a free account. \n",
        "import plotly\n",
        "import chart_studio\n",
        "import chart_studio.plotly as py\n",
        "username = 'josh.haga' # your username\n",
        "api_key = '6bgoxTaL6JLm9a9DquYX' # your api key - go to profile > settings > regenerate key\n",
        "chart_studio.tools.set_credentials_file(username=username, api_key=api_key)"
      ],
      "execution_count": 21,
      "outputs": []
    },
    {
      "cell_type": "code",
      "metadata": {
        "id": "ufjCRMk8x6Ja",
        "colab_type": "code",
        "colab": {}
      },
      "source": [
        "###Datasets\n",
        "va_locality_cases = pd.read_csv('https://raw.githubusercontent.com/JoshuaHaga/covid_tracking_project/master/VDH-COVID-19-PublicUseDataset-Cases.csv')\n",
        "va_cases_zip      = pd.read_csv('https://raw.githubusercontent.com/JoshuaHaga/covid_tracking_project/master/VDH-COVID-19-PublicUseDataset-ZIPCode.csv')"
      ],
      "execution_count": 22,
      "outputs": []
    },
    {
      "cell_type": "code",
      "metadata": {
        "id": "sY0L1CKuyJIE",
        "colab_type": "code",
        "colab": {}
      },
      "source": [
        "#va_cases_zip.head()"
      ],
      "execution_count": 23,
      "outputs": []
    },
    {
      "cell_type": "code",
      "metadata": {
        "id": "rQGmK_ly1SHV",
        "colab_type": "code",
        "colab": {}
      },
      "source": [
        "###Filter for just harrisonburg\n",
        "harrison_zip = [22801,22802,22803,22807]\n",
        "harrison_cases = va_cases_zip[va_cases_zip['ZIP Code'].isin(['22801','22802','22803','22807'])]\n",
        "#harrison_cases"
      ],
      "execution_count": 24,
      "outputs": []
    },
    {
      "cell_type": "markdown",
      "metadata": {
        "id": "paDZ-fIc6dx0",
        "colab_type": "text"
      },
      "source": [
        "###va_locality_cases"
      ]
    },
    {
      "cell_type": "code",
      "metadata": {
        "id": "91351z-64F3T",
        "colab_type": "code",
        "colab": {}
      },
      "source": [
        "#va_locality_cases.head()"
      ],
      "execution_count": 25,
      "outputs": []
    },
    {
      "cell_type": "code",
      "metadata": {
        "id": "6k90ddcS4LLr",
        "colab_type": "code",
        "colab": {}
      },
      "source": [
        "#va_comb = pd.merge(va_locality_cases,va_cases_zip, on=)"
      ],
      "execution_count": 26,
      "outputs": []
    },
    {
      "cell_type": "code",
      "metadata": {
        "id": "hBP9KhfD8JHN",
        "colab_type": "code",
        "colab": {
          "base_uri": "https://localhost:8080/",
          "height": 102
        },
        "outputId": "e101e4e0-ccc6-46b1-c3d7-f78ee4ebc49e"
      },
      "source": [
        "va_locality_cases['Report Date'].describe()"
      ],
      "execution_count": 27,
      "outputs": [
        {
          "output_type": "execute_result",
          "data": {
            "text/plain": [
              "count          22743\n",
              "unique           171\n",
              "top       09/03/2020\n",
              "freq             133\n",
              "Name: Report Date, dtype: object"
            ]
          },
          "metadata": {
            "tags": []
          },
          "execution_count": 27
        }
      ]
    },
    {
      "cell_type": "code",
      "metadata": {
        "id": "lmErlb4q7o3G",
        "colab_type": "code",
        "colab": {}
      },
      "source": [
        "current_cases = va_locality_cases[va_locality_cases['Report Date'] == va_locality_cases['Report Date'].max()]"
      ],
      "execution_count": 28,
      "outputs": []
    },
    {
      "cell_type": "code",
      "metadata": {
        "id": "T6Z2fn4r7ZX3",
        "colab_type": "code",
        "colab": {
          "base_uri": "https://localhost:8080/",
          "height": 232
        },
        "outputId": "a1980349-568b-4329-cbad-7a8aed3380f6"
      },
      "source": [
        "va_county_cases_fig = px.choropleth(va_locality_cases, geojson=counties, locations='FIPS', color='Total Cases',\n",
        " color_continuous_scale='portland',\n",
        " range_color=(va_locality_cases['Total Cases'].min(), va_locality_cases['Total Cases'].mean()*4),\n",
        " scope='usa',\n",
        " labels={'color':'Current Covid Cases',\n",
        "         'Locality':'County',\n",
        "         }\n",
        " )\n",
        "va_county_cases_fig.update_geos(fitbounds=\"locations\", visible=False)\n",
        "va_county_cases_fig.update_layout(\n",
        "    title_text = 'Positive Results by County in VA'\n",
        ")\n",
        "va_county_cases_fig.show()\n",
        "#va_county_cases_fig.write_html('/content/full_map.html')"
      ],
      "execution_count": 35,
      "outputs": [
        {
          "output_type": "error",
          "ename": "TypeError",
          "evalue": "ignored",
          "traceback": [
            "\u001b[0;31m---------------------------------------------------------------------------\u001b[0m",
            "\u001b[0;31mTypeError\u001b[0m                                 Traceback (most recent call last)",
            "\u001b[0;32m<ipython-input-35-f6bd945bf06f>\u001b[0m in \u001b[0;36m<module>\u001b[0;34m()\u001b[0m\n\u001b[1;32m      4\u001b[0m  \u001b[0mscope\u001b[0m\u001b[0;34m=\u001b[0m\u001b[0;34m'usa'\u001b[0m\u001b[0;34m,\u001b[0m\u001b[0;34m\u001b[0m\u001b[0;34m\u001b[0m\u001b[0m\n\u001b[1;32m      5\u001b[0m  labels={'color':'Current Covid Cases',\n\u001b[0;32m----> 6\u001b[0;31m          \u001b[0;34m'Locality'\u001b[0m\u001b[0;34m:\u001b[0m\u001b[0;34m'County'\u001b[0m\u001b[0;34m,\u001b[0m\u001b[0;34m\u001b[0m\u001b[0;34m\u001b[0m\u001b[0m\n\u001b[0m\u001b[1;32m      7\u001b[0m          }\n\u001b[1;32m      8\u001b[0m  )\n",
            "\u001b[0;31mTypeError\u001b[0m: choropleth() got an unexpected keyword argument 'geojson'"
          ]
        }
      ]
    },
    {
      "cell_type": "code",
      "metadata": {
        "id": "N_zP5LCWyiE6",
        "colab_type": "code",
        "colab": {}
      },
      "source": [
        "def rolling_seven_avg(df,locality,feature,days):\n",
        "  df = df[df['Locality']==locality]\n",
        "  df['new_cases'] = df[feature].diff()\n",
        "  rolling_avg = df['new_cases'].rolling(window=days).mean()\n",
        "  df['rolling_avg'] = rolling_avg\n",
        "  return df\n",
        " "
      ],
      "execution_count": null,
      "outputs": []
    },
    {
      "cell_type": "code",
      "metadata": {
        "id": "VMG5aAM7P_iH",
        "colab_type": "code",
        "colab": {}
      },
      "source": [
        "def col_list(dataframe):\n",
        "  val_counts = dataframe.value_counts()\n",
        "  val_as_pd  = pd.DataFrame(val_counts).T\n",
        "  val_list   = val_as_pd.columns.tolist()\n",
        "  return val_list"
      ],
      "execution_count": null,
      "outputs": []
    },
    {
      "cell_type": "code",
      "metadata": {
        "id": "msgQs9cJCc-5",
        "colab_type": "code",
        "colab": {}
      },
      "source": [
        "harrison = rolling_seven_avg(va_locality_cases,'Harrisonburg','Total Cases',7)"
      ],
      "execution_count": null,
      "outputs": []
    },
    {
      "cell_type": "code",
      "metadata": {
        "id": "iRw_Vcu8E-7h",
        "colab_type": "code",
        "colab": {}
      },
      "source": [
        "#harrison['rolling_avg'].plot(kind='bar',)"
      ],
      "execution_count": null,
      "outputs": []
    },
    {
      "cell_type": "code",
      "metadata": {
        "id": "dGEmERxoI4dK",
        "colab_type": "code",
        "colab": {}
      },
      "source": [
        "harrisonburg_sevenday_rolling = px.bar(harrison, x='Report Date', y='rolling_avg',\n",
        "                                       labels={'rolling_avg':'Number of Positive Cases', \n",
        "                                      'Report Date':'Date',})\n",
        "harrisonburg_sevenday_rolling.show()"
      ],
      "execution_count": null,
      "outputs": []
    },
    {
      "cell_type": "code",
      "metadata": {
        "id": "HLvBW6m5K_Da",
        "colab_type": "code",
        "colab": {}
      },
      "source": [
        "py.plot(harrisonburg_sevenday_rolling, filename = 'harrisonburg_sevenday_rolling', auto_open=True)"
      ],
      "execution_count": null,
      "outputs": []
    },
    {
      "cell_type": "code",
      "metadata": {
        "id": "c1MRnj32ECMv",
        "colab_type": "code",
        "colab": {}
      },
      "source": [
        "augusta = rolling_seven_avg(va_locality_cases,'Augusta','Total Cases',7)"
      ],
      "execution_count": null,
      "outputs": []
    },
    {
      "cell_type": "code",
      "metadata": {
        "id": "IbwebD-3WvS0",
        "colab_type": "code",
        "colab": {}
      },
      "source": [
        "augusta_sevenday_rolling = px.bar(augusta, x='Report Date', y='rolling_avg',\n",
        "                                  labels={'rolling_avg':'Number of Positive Cases', \n",
        "                                      'Report Date':'Date',\n",
        "                                      })\n",
        "#augusta_sevenday_rolling.show()"
      ],
      "execution_count": null,
      "outputs": []
    },
    {
      "cell_type": "markdown",
      "metadata": {
        "id": "cP1xojCU_0Yb",
        "colab_type": "text"
      },
      "source": [
        "# Visualizations"
      ]
    },
    {
      "cell_type": "markdown",
      "metadata": {
        "id": "ViDIlO2H_9Tu",
        "colab_type": "text"
      },
      "source": [
        "###Harrisonburg 7 day Rolling Avg"
      ]
    },
    {
      "cell_type": "code",
      "metadata": {
        "id": "-93Q7PbQXAtb",
        "colab_type": "code",
        "colab": {}
      },
      "source": [
        "harrisonburg_sevenday_rolling.show()"
      ],
      "execution_count": null,
      "outputs": []
    },
    {
      "cell_type": "code",
      "metadata": {
        "id": "vhNCAxM_SYwi",
        "colab_type": "code",
        "colab": {}
      },
      "source": [
        "####Link to embed Harrisonburg 7 day Rolling Avg\n",
        "py.plot(harrisonburg_sevenday_rolling, filename = 'harrisonburg_sevenday_rolling', auto_open=True)"
      ],
      "execution_count": null,
      "outputs": []
    },
    {
      "cell_type": "markdown",
      "metadata": {
        "id": "eteUAK37SNJA",
        "colab_type": "text"
      },
      "source": [
        "###VA Cases by county "
      ]
    },
    {
      "cell_type": "code",
      "metadata": {
        "id": "lQrymkGNSHdL",
        "colab_type": "code",
        "colab": {}
      },
      "source": [
        "va_county_cases_fig.show()"
      ],
      "execution_count": null,
      "outputs": []
    },
    {
      "cell_type": "code",
      "metadata": {
        "id": "6I0vF9wrSs7t",
        "colab_type": "code",
        "colab": {}
      },
      "source": [
        "py.plot(va_county_cases_fig, filename = 'va_county_cases_fig', auto_open=True)"
      ],
      "execution_count": null,
      "outputs": []
    }
  ]
}